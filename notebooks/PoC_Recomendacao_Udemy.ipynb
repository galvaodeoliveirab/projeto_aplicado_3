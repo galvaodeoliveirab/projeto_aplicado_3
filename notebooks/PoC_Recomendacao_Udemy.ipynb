{
 "cells": [
  {
   "cell_type": "code",
   "id": "initial_id",
   "metadata": {
    "collapsed": true,
    "ExecuteTime": {
     "end_time": "2025-09-30T14:25:10.161205Z",
     "start_time": "2025-09-30T14:25:10.078730Z"
    }
   },
   "source": [
    "# ============================\n",
    "# Projeto Aplicado III – Etapa 2\n",
    "# Prova de Conceito – Sistema de Recomendação\n",
    "# ============================\n",
    "\n",
    "# Importando bibliotecas necessárias\n",
    "import pandas as pd\n",
    "from sklearn.feature_extraction.text import TfidfVectorizer\n",
    "from sklearn.metrics.pairwise import cosine_similarity\n",
    "\n",
    "# Definindo caminho da base limpa\n",
    "PATH_CLEAN = \"/Users/iloop/Desktop/Projeto/udemy_cleaned_for_training.csv\"\n",
    "\n",
    "# Carregando dataset tratado\n",
    "df = pd.read_csv(PATH_CLEAN)\n",
    "\n",
    "# Conferindo colunas\n",
    "df.head()\n"
   ],
   "outputs": [
    {
     "data": {
      "text/plain": [
       "                                        course_title  price  num_subscribers  \\\n",
       "0                 ultimate investment banking course    200             2147   \n",
       "1  complete gst course certification grow your ca...     75             2792   \n",
       "2  financial modeling for business analysts and c...     45             2174   \n",
       "3   beginner to pro financial analysis in excel 2017     95             2451   \n",
       "4       how to maximize your profits trading options    200             1276   \n",
       "\n",
       "   level_52  level_All Levels  level_Beginner Level  level_Expert Level  \\\n",
       "0     False              True                 False               False   \n",
       "1     False              True                 False               False   \n",
       "2     False             False                 False               False   \n",
       "3     False              True                 False               False   \n",
       "4     False             False                 False               False   \n",
       "\n",
       "   level_Intermediate Level  subject_Business Finance  subject_Graphic Design  \\\n",
       "0                     False                      True                   False   \n",
       "1                     False                      True                   False   \n",
       "2                      True                      True                   False   \n",
       "3                     False                      True                   False   \n",
       "4                      True                      True                   False   \n",
       "\n",
       "   subject_Musical Instruments  subject_Web Development  num_subscribers_log  \\\n",
       "0                        False                    False             7.672292   \n",
       "1                        False                    False             7.934872   \n",
       "2                        False                    False             7.684784   \n",
       "3                        False                    False             7.804659   \n",
       "4                        False                    False             7.152269   \n",
       "\n",
       "   price_norm  \n",
       "0       1.000  \n",
       "1       0.375  \n",
       "2       0.225  \n",
       "3       0.475  \n",
       "4       1.000  "
      ],
      "text/html": [
       "<div>\n",
       "<style scoped>\n",
       "    .dataframe tbody tr th:only-of-type {\n",
       "        vertical-align: middle;\n",
       "    }\n",
       "\n",
       "    .dataframe tbody tr th {\n",
       "        vertical-align: top;\n",
       "    }\n",
       "\n",
       "    .dataframe thead th {\n",
       "        text-align: right;\n",
       "    }\n",
       "</style>\n",
       "<table border=\"1\" class=\"dataframe\">\n",
       "  <thead>\n",
       "    <tr style=\"text-align: right;\">\n",
       "      <th></th>\n",
       "      <th>course_title</th>\n",
       "      <th>price</th>\n",
       "      <th>num_subscribers</th>\n",
       "      <th>level_52</th>\n",
       "      <th>level_All Levels</th>\n",
       "      <th>level_Beginner Level</th>\n",
       "      <th>level_Expert Level</th>\n",
       "      <th>level_Intermediate Level</th>\n",
       "      <th>subject_Business Finance</th>\n",
       "      <th>subject_Graphic Design</th>\n",
       "      <th>subject_Musical Instruments</th>\n",
       "      <th>subject_Web Development</th>\n",
       "      <th>num_subscribers_log</th>\n",
       "      <th>price_norm</th>\n",
       "    </tr>\n",
       "  </thead>\n",
       "  <tbody>\n",
       "    <tr>\n",
       "      <th>0</th>\n",
       "      <td>ultimate investment banking course</td>\n",
       "      <td>200</td>\n",
       "      <td>2147</td>\n",
       "      <td>False</td>\n",
       "      <td>True</td>\n",
       "      <td>False</td>\n",
       "      <td>False</td>\n",
       "      <td>False</td>\n",
       "      <td>True</td>\n",
       "      <td>False</td>\n",
       "      <td>False</td>\n",
       "      <td>False</td>\n",
       "      <td>7.672292</td>\n",
       "      <td>1.000</td>\n",
       "    </tr>\n",
       "    <tr>\n",
       "      <th>1</th>\n",
       "      <td>complete gst course certification grow your ca...</td>\n",
       "      <td>75</td>\n",
       "      <td>2792</td>\n",
       "      <td>False</td>\n",
       "      <td>True</td>\n",
       "      <td>False</td>\n",
       "      <td>False</td>\n",
       "      <td>False</td>\n",
       "      <td>True</td>\n",
       "      <td>False</td>\n",
       "      <td>False</td>\n",
       "      <td>False</td>\n",
       "      <td>7.934872</td>\n",
       "      <td>0.375</td>\n",
       "    </tr>\n",
       "    <tr>\n",
       "      <th>2</th>\n",
       "      <td>financial modeling for business analysts and c...</td>\n",
       "      <td>45</td>\n",
       "      <td>2174</td>\n",
       "      <td>False</td>\n",
       "      <td>False</td>\n",
       "      <td>False</td>\n",
       "      <td>False</td>\n",
       "      <td>True</td>\n",
       "      <td>True</td>\n",
       "      <td>False</td>\n",
       "      <td>False</td>\n",
       "      <td>False</td>\n",
       "      <td>7.684784</td>\n",
       "      <td>0.225</td>\n",
       "    </tr>\n",
       "    <tr>\n",
       "      <th>3</th>\n",
       "      <td>beginner to pro financial analysis in excel 2017</td>\n",
       "      <td>95</td>\n",
       "      <td>2451</td>\n",
       "      <td>False</td>\n",
       "      <td>True</td>\n",
       "      <td>False</td>\n",
       "      <td>False</td>\n",
       "      <td>False</td>\n",
       "      <td>True</td>\n",
       "      <td>False</td>\n",
       "      <td>False</td>\n",
       "      <td>False</td>\n",
       "      <td>7.804659</td>\n",
       "      <td>0.475</td>\n",
       "    </tr>\n",
       "    <tr>\n",
       "      <th>4</th>\n",
       "      <td>how to maximize your profits trading options</td>\n",
       "      <td>200</td>\n",
       "      <td>1276</td>\n",
       "      <td>False</td>\n",
       "      <td>False</td>\n",
       "      <td>False</td>\n",
       "      <td>False</td>\n",
       "      <td>True</td>\n",
       "      <td>True</td>\n",
       "      <td>False</td>\n",
       "      <td>False</td>\n",
       "      <td>False</td>\n",
       "      <td>7.152269</td>\n",
       "      <td>1.000</td>\n",
       "    </tr>\n",
       "  </tbody>\n",
       "</table>\n",
       "</div>"
      ]
     },
     "execution_count": 4,
     "metadata": {},
     "output_type": "execute_result"
    }
   ],
   "execution_count": 4
  },
  {
   "metadata": {
    "ExecuteTime": {
     "end_time": "2025-09-30T14:25:25.321668Z",
     "start_time": "2025-09-30T14:25:25.282121Z"
    }
   },
   "cell_type": "code",
   "source": [
    "# ============================\n",
    "# 1. Criar matriz TF-IDF a partir do título dos cursos\n",
    "# ============================\n",
    "\n",
    "# Preenchendo valores nulos em 'course_title' com string vazia\n",
    "df['course_title'] = df['course_title'].fillna(\"\")\n",
    "\n",
    "# Inicializando o vetorizador TF-IDF\n",
    "tfidf = TfidfVectorizer(stop_words=\"english\")\n",
    "\n",
    "# Ajustando e transformando os títulos em vetores numéricos\n",
    "tfidf_matrix = tfidf.fit_transform(df['course_title'])\n",
    "\n",
    "# Conferindo dimensões da matriz\n",
    "print(\"Matriz TF-IDF:\", tfidf_matrix.shape)\n"
   ],
   "id": "d48abcb86d892dea",
   "outputs": [
    {
     "name": "stdout",
     "output_type": "stream",
     "text": [
      "Matriz TF-IDF: (3677, 3541)\n"
     ]
    }
   ],
   "execution_count": 5
  },
  {
   "metadata": {
    "ExecuteTime": {
     "end_time": "2025-09-30T14:25:41.792018Z",
     "start_time": "2025-09-30T14:25:41.710603Z"
    }
   },
   "cell_type": "code",
   "source": [
    "# ============================\n",
    "# 2. Calcular matriz de similaridade do cosseno\n",
    "# ============================\n",
    "\n",
    "cosine_sim = cosine_similarity(tfidf_matrix, tfidf_matrix)\n",
    "\n",
    "print(\"Matriz de similaridade gerada com sucesso!\")\n"
   ],
   "id": "4f52bdcd68aae26d",
   "outputs": [
    {
     "name": "stdout",
     "output_type": "stream",
     "text": [
      "Matriz de similaridade gerada com sucesso!\n"
     ]
    }
   ],
   "execution_count": 6
  },
  {
   "metadata": {
    "ExecuteTime": {
     "end_time": "2025-09-30T14:26:01.919739Z",
     "start_time": "2025-09-30T14:26:01.914673Z"
    }
   },
   "cell_type": "code",
   "source": [
    "# ============================\n",
    "# 3. Função para recomendar cursos\n",
    "# ============================\n",
    "\n",
    "def recomendar_cursos(titulo_curso, n_recomendacoes=5):\n",
    "    # Localiza o índice do curso no dataset\n",
    "    idx = df[df['course_title'].str.contains(titulo_curso, case=False, na=False)].index[0]\n",
    "\n",
    "    # Obtém a lista de similaridades para esse curso\n",
    "    sim_scores = list(enumerate(cosine_sim[idx]))\n",
    "\n",
    "    # Ordena pela similaridade (maior para menor)\n",
    "    sim_scores = sorted(sim_scores, key=lambda x: x[1], reverse=True)\n",
    "\n",
    "    # Ignora o próprio curso (primeiro item) e pega os n recomendados\n",
    "    sim_scores = sim_scores[1:n_recomendacoes+1]\n",
    "\n",
    "    # Retorna títulos recomendados\n",
    "    cursos_recomendados = [df.iloc[i[0]]['course_title'] for i in sim_scores]\n",
    "\n",
    "    return cursos_recomendados\n"
   ],
   "id": "bfb0b9d97f4ab54",
   "outputs": [],
   "execution_count": 7
  },
  {
   "metadata": {
    "ExecuteTime": {
     "end_time": "2025-09-30T14:26:21.219439Z",
     "start_time": "2025-09-30T14:26:21.201633Z"
    }
   },
   "cell_type": "code",
   "source": [
    "# ============================\n",
    "# 4. Testando a recomendação\n",
    "# ============================\n",
    "\n",
    "curso_exemplo = \"python\"\n",
    "print(\"Curso base:\", curso_exemplo)\n",
    "print(\"\\nCursos recomendados:\\n\")\n",
    "\n",
    "for c in recomendar_cursos(curso_exemplo, 5):\n",
    "    print(\"-\", c)\n"
   ],
   "id": "d0d1088261f98431",
   "outputs": [
    {
     "name": "stdout",
     "output_type": "stream",
     "text": [
      "Curso base: python\n",
      "\n",
      "Cursos recomendados:\n",
      "\n",
      "- python algo stock trading automate your trading\n",
      "- python algo trading fx trading with oanda\n",
      "- black algo trading build your trading robot\n",
      "- python for trading investing\n",
      "- forex economic news trading\n"
     ]
    }
   ],
   "execution_count": 8
  }
 ],
 "metadata": {
  "kernelspec": {
   "display_name": "Python 3",
   "language": "python",
   "name": "python3"
  },
  "language_info": {
   "codemirror_mode": {
    "name": "ipython",
    "version": 2
   },
   "file_extension": ".py",
   "mimetype": "text/x-python",
   "name": "python",
   "nbconvert_exporter": "python",
   "pygments_lexer": "ipython2",
   "version": "2.7.6"
  }
 },
 "nbformat": 4,
 "nbformat_minor": 5
}
