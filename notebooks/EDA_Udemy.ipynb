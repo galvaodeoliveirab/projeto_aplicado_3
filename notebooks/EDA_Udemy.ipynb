{
  "cells": [
    {
      "cell_type": "markdown",
      "id": "TUxw07dp-rFz",
      "metadata": {
        "id": "TUxw07dp-rFz"
      },
      "source": [
        "# EDA – Udemy Course Dataset (Entrega 3)\n",
        "\n",
        "Objetivos:\n",
        "* Analisar a base original\n",
        "* Produzir um arquivo limpo\n",
        "* Arquivo deve estar pronto para a próxima etapa do projeto (tratamento → técnica → PoC)."
      ]
    },
    {
      "cell_type": "markdown",
      "id": "UrpFEiMp_C0I",
      "metadata": {
        "id": "UrpFEiMp_C0I"
      },
      "source": [
        "# 1 - Configurações do ambiente e carregamento do dataset"
      ]
    },
    {
      "cell_type": "code",
      "execution_count": null,
      "id": "7f375c78e55e3597",
      "metadata": {
        "ExecuteTime": {
          "end_time": "2025-09-30T14:54:29.875182Z",
          "start_time": "2025-09-30T14:54:26.758283Z"
        },
        "colab": {
          "base_uri": "https://localhost:8080/",
          "height": 991
        },
        "id": "7f375c78e55e3597",
        "outputId": "c5710a64-72b8-4809-a64e-8198e9e85beb"
      },
      "outputs": [
        {
          "name": "stdout",
          "output_type": "stream",
          "text": [
            "Dimensões: (3683, 18)\n"
          ]
        },
        {
          "data": {
            "text/html": [
              "<div>\n",
              "<style scoped>\n",
              "    .dataframe tbody tr th:only-of-type {\n",
              "        vertical-align: middle;\n",
              "    }\n",
              "\n",
              "    .dataframe tbody tr th {\n",
              "        vertical-align: top;\n",
              "    }\n",
              "\n",
              "    .dataframe thead th {\n",
              "        text-align: right;\n",
              "    }\n",
              "</style>\n",
              "<table border=\"1\" class=\"dataframe\">\n",
              "  <thead>\n",
              "    <tr style=\"text-align: right;\">\n",
              "      <th></th>\n",
              "      <th>course_id</th>\n",
              "      <th>course_title</th>\n",
              "      <th>url</th>\n",
              "      <th>is_paid</th>\n",
              "      <th>price</th>\n",
              "      <th>num_subscribers</th>\n",
              "      <th>num_reviews</th>\n",
              "      <th>num_lectures</th>\n",
              "      <th>level</th>\n",
              "      <th>content_duration</th>\n",
              "      <th>published_timestamp</th>\n",
              "      <th>subject</th>\n",
              "      <th>profit</th>\n",
              "      <th>published_date</th>\n",
              "      <th>published_time</th>\n",
              "      <th>year</th>\n",
              "      <th>month</th>\n",
              "      <th>day</th>\n",
              "    </tr>\n",
              "  </thead>\n",
              "  <tbody>\n",
              "    <tr>\n",
              "      <th>0</th>\n",
              "      <td>1070968</td>\n",
              "      <td>Ultimate Investment Banking Course</td>\n",
              "      <td>https://www.udemy.com/ultimate-investment-bank...</td>\n",
              "      <td>True</td>\n",
              "      <td>200</td>\n",
              "      <td>2147</td>\n",
              "      <td>23</td>\n",
              "      <td>51</td>\n",
              "      <td>All Levels</td>\n",
              "      <td>1.5 hours</td>\n",
              "      <td>2017-01-18T20:58:58Z</td>\n",
              "      <td>Business Finance</td>\n",
              "      <td>429400</td>\n",
              "      <td>2017-01-18</td>\n",
              "      <td>20:58:58Z</td>\n",
              "      <td>2017</td>\n",
              "      <td>1</td>\n",
              "      <td>18</td>\n",
              "    </tr>\n",
              "    <tr>\n",
              "      <th>1</th>\n",
              "      <td>1113822</td>\n",
              "      <td>Complete GST Course &amp; Certification - Grow You...</td>\n",
              "      <td>https://www.udemy.com/goods-and-services-tax/</td>\n",
              "      <td>True</td>\n",
              "      <td>75</td>\n",
              "      <td>2792</td>\n",
              "      <td>923</td>\n",
              "      <td>274</td>\n",
              "      <td>All Levels</td>\n",
              "      <td>39 hours</td>\n",
              "      <td>2017-03-09T16:34:20Z</td>\n",
              "      <td>Business Finance</td>\n",
              "      <td>209400</td>\n",
              "      <td>2017-03-09</td>\n",
              "      <td>16:34:20Z</td>\n",
              "      <td>2017</td>\n",
              "      <td>3</td>\n",
              "      <td>9</td>\n",
              "    </tr>\n",
              "    <tr>\n",
              "      <th>2</th>\n",
              "      <td>1006314</td>\n",
              "      <td>Financial Modeling for Business Analysts and C...</td>\n",
              "      <td>https://www.udemy.com/financial-modeling-for-b...</td>\n",
              "      <td>True</td>\n",
              "      <td>45</td>\n",
              "      <td>2174</td>\n",
              "      <td>74</td>\n",
              "      <td>51</td>\n",
              "      <td>Intermediate Level</td>\n",
              "      <td>2.5 hours</td>\n",
              "      <td>2016-12-19T19:26:30Z</td>\n",
              "      <td>Business Finance</td>\n",
              "      <td>97830</td>\n",
              "      <td>2016-12-19</td>\n",
              "      <td>19:26:30Z</td>\n",
              "      <td>2016</td>\n",
              "      <td>12</td>\n",
              "      <td>19</td>\n",
              "    </tr>\n",
              "    <tr>\n",
              "      <th>3</th>\n",
              "      <td>1210588</td>\n",
              "      <td>Beginner to Pro - Financial Analysis in Excel ...</td>\n",
              "      <td>https://www.udemy.com/complete-excel-finance-c...</td>\n",
              "      <td>True</td>\n",
              "      <td>95</td>\n",
              "      <td>2451</td>\n",
              "      <td>11</td>\n",
              "      <td>36</td>\n",
              "      <td>All Levels</td>\n",
              "      <td>3 hours</td>\n",
              "      <td>2017-05-30T20:07:24Z</td>\n",
              "      <td>Business Finance</td>\n",
              "      <td>232845</td>\n",
              "      <td>2017-05-30</td>\n",
              "      <td>20:07:24Z</td>\n",
              "      <td>2017</td>\n",
              "      <td>5</td>\n",
              "      <td>30</td>\n",
              "    </tr>\n",
              "    <tr>\n",
              "      <th>4</th>\n",
              "      <td>1011058</td>\n",
              "      <td>How To Maximize Your Profits Trading Options</td>\n",
              "      <td>https://www.udemy.com/how-to-maximize-your-pro...</td>\n",
              "      <td>True</td>\n",
              "      <td>200</td>\n",
              "      <td>1276</td>\n",
              "      <td>45</td>\n",
              "      <td>26</td>\n",
              "      <td>Intermediate Level</td>\n",
              "      <td>2 hours</td>\n",
              "      <td>2016-12-13T14:57:18Z</td>\n",
              "      <td>Business Finance</td>\n",
              "      <td>255200</td>\n",
              "      <td>2016-12-13</td>\n",
              "      <td>14:57:18Z</td>\n",
              "      <td>2016</td>\n",
              "      <td>12</td>\n",
              "      <td>13</td>\n",
              "    </tr>\n",
              "    <tr>\n",
              "      <th>5</th>\n",
              "      <td>192870</td>\n",
              "      <td>Trading Penny Stocks: A Guide for All Levels I...</td>\n",
              "      <td>https://www.udemy.com/trading-penny-stocks-a-g...</td>\n",
              "      <td>True</td>\n",
              "      <td>150</td>\n",
              "      <td>9221</td>\n",
              "      <td>138</td>\n",
              "      <td>25</td>\n",
              "      <td>All Levels</td>\n",
              "      <td>3 hours</td>\n",
              "      <td>2014-05-02T15:13:30Z</td>\n",
              "      <td>Business Finance</td>\n",
              "      <td>1383150</td>\n",
              "      <td>2014-05-02</td>\n",
              "      <td>15:13:30Z</td>\n",
              "      <td>2014</td>\n",
              "      <td>5</td>\n",
              "      <td>2</td>\n",
              "    </tr>\n",
              "    <tr>\n",
              "      <th>6</th>\n",
              "      <td>739964</td>\n",
              "      <td>Investing And Trading For Beginners: Mastering...</td>\n",
              "      <td>https://www.udemy.com/investing-and-trading-fo...</td>\n",
              "      <td>True</td>\n",
              "      <td>65</td>\n",
              "      <td>1540</td>\n",
              "      <td>178</td>\n",
              "      <td>26</td>\n",
              "      <td>Beginner Level</td>\n",
              "      <td>1 hour</td>\n",
              "      <td>2016-02-21T18:23:12Z</td>\n",
              "      <td>Business Finance</td>\n",
              "      <td>100100</td>\n",
              "      <td>2016-02-21</td>\n",
              "      <td>18:23:12Z</td>\n",
              "      <td>2016</td>\n",
              "      <td>2</td>\n",
              "      <td>21</td>\n",
              "    </tr>\n",
              "    <tr>\n",
              "      <th>7</th>\n",
              "      <td>403100</td>\n",
              "      <td>Trading Stock Chart Patterns For Immediate, Ex...</td>\n",
              "      <td>https://www.udemy.com/trading-chart-patterns-f...</td>\n",
              "      <td>True</td>\n",
              "      <td>95</td>\n",
              "      <td>2917</td>\n",
              "      <td>148</td>\n",
              "      <td>23</td>\n",
              "      <td>All Levels</td>\n",
              "      <td>2.5 hours</td>\n",
              "      <td>2015-01-30T22:13:03Z</td>\n",
              "      <td>Business Finance</td>\n",
              "      <td>277115</td>\n",
              "      <td>2015-01-30</td>\n",
              "      <td>22:13:03Z</td>\n",
              "      <td>2015</td>\n",
              "      <td>1</td>\n",
              "      <td>30</td>\n",
              "    </tr>\n",
              "    <tr>\n",
              "      <th>8</th>\n",
              "      <td>476268</td>\n",
              "      <td>Options Trading 3 : Advanced Stock Profit and ...</td>\n",
              "      <td>https://www.udemy.com/day-trading-stock-option...</td>\n",
              "      <td>True</td>\n",
              "      <td>195</td>\n",
              "      <td>5172</td>\n",
              "      <td>34</td>\n",
              "      <td>38</td>\n",
              "      <td>Expert Level</td>\n",
              "      <td>2.5 hours</td>\n",
              "      <td>2015-05-28T00:14:03Z</td>\n",
              "      <td>Business Finance</td>\n",
              "      <td>1008540</td>\n",
              "      <td>2015-05-28</td>\n",
              "      <td>00:14:03Z</td>\n",
              "      <td>2015</td>\n",
              "      <td>5</td>\n",
              "      <td>28</td>\n",
              "    </tr>\n",
              "    <tr>\n",
              "      <th>9</th>\n",
              "      <td>1167710</td>\n",
              "      <td>The Only Investment Strategy You Need For Your...</td>\n",
              "      <td>https://www.udemy.com/the-only-investment-stra...</td>\n",
              "      <td>True</td>\n",
              "      <td>200</td>\n",
              "      <td>827</td>\n",
              "      <td>14</td>\n",
              "      <td>15</td>\n",
              "      <td>All Levels</td>\n",
              "      <td>1 hour</td>\n",
              "      <td>2017-04-18T18:13:32Z</td>\n",
              "      <td>Business Finance</td>\n",
              "      <td>165400</td>\n",
              "      <td>2017-04-18</td>\n",
              "      <td>18:13:32Z</td>\n",
              "      <td>2017</td>\n",
              "      <td>4</td>\n",
              "      <td>18</td>\n",
              "    </tr>\n",
              "  </tbody>\n",
              "</table>\n",
              "</div>"
            ],
            "text/plain": [
              "   course_id                                       course_title                                                url  \\\n",
              "0    1070968                 Ultimate Investment Banking Course  https://www.udemy.com/ultimate-investment-bank...   \n",
              "1    1113822  Complete GST Course & Certification - Grow You...      https://www.udemy.com/goods-and-services-tax/   \n",
              "2    1006314  Financial Modeling for Business Analysts and C...  https://www.udemy.com/financial-modeling-for-b...   \n",
              "3    1210588  Beginner to Pro - Financial Analysis in Excel ...  https://www.udemy.com/complete-excel-finance-c...   \n",
              "4    1011058       How To Maximize Your Profits Trading Options  https://www.udemy.com/how-to-maximize-your-pro...   \n",
              "5     192870  Trading Penny Stocks: A Guide for All Levels I...  https://www.udemy.com/trading-penny-stocks-a-g...   \n",
              "6     739964  Investing And Trading For Beginners: Mastering...  https://www.udemy.com/investing-and-trading-fo...   \n",
              "7     403100  Trading Stock Chart Patterns For Immediate, Ex...  https://www.udemy.com/trading-chart-patterns-f...   \n",
              "8     476268  Options Trading 3 : Advanced Stock Profit and ...  https://www.udemy.com/day-trading-stock-option...   \n",
              "9    1167710  The Only Investment Strategy You Need For Your...  https://www.udemy.com/the-only-investment-stra...   \n",
              "\n",
              "   is_paid  price  num_subscribers  num_reviews  num_lectures               level content_duration  \\\n",
              "0     True    200             2147           23            51          All Levels        1.5 hours   \n",
              "1     True     75             2792          923           274          All Levels         39 hours   \n",
              "2     True     45             2174           74            51  Intermediate Level        2.5 hours   \n",
              "3     True     95             2451           11            36          All Levels          3 hours   \n",
              "4     True    200             1276           45            26  Intermediate Level          2 hours   \n",
              "5     True    150             9221          138            25          All Levels          3 hours   \n",
              "6     True     65             1540          178            26      Beginner Level           1 hour   \n",
              "7     True     95             2917          148            23          All Levels        2.5 hours   \n",
              "8     True    195             5172           34            38        Expert Level        2.5 hours   \n",
              "9     True    200              827           14            15          All Levels           1 hour   \n",
              "\n",
              "    published_timestamp           subject   profit published_date published_time  year  month  day  \n",
              "0  2017-01-18T20:58:58Z  Business Finance   429400     2017-01-18      20:58:58Z  2017      1   18  \n",
              "1  2017-03-09T16:34:20Z  Business Finance   209400     2017-03-09      16:34:20Z  2017      3    9  \n",
              "2  2016-12-19T19:26:30Z  Business Finance    97830     2016-12-19      19:26:30Z  2016     12   19  \n",
              "3  2017-05-30T20:07:24Z  Business Finance   232845     2017-05-30      20:07:24Z  2017      5   30  \n",
              "4  2016-12-13T14:57:18Z  Business Finance   255200     2016-12-13      14:57:18Z  2016     12   13  \n",
              "5  2014-05-02T15:13:30Z  Business Finance  1383150     2014-05-02      15:13:30Z  2014      5    2  \n",
              "6  2016-02-21T18:23:12Z  Business Finance   100100     2016-02-21      18:23:12Z  2016      2   21  \n",
              "7  2015-01-30T22:13:03Z  Business Finance   277115     2015-01-30      22:13:03Z  2015      1   30  \n",
              "8  2015-05-28T00:14:03Z  Business Finance  1008540     2015-05-28      00:14:03Z  2015      5   28  \n",
              "9  2017-04-18T18:13:32Z  Business Finance   165400     2017-04-18      18:13:32Z  2017      4   18  "
            ]
          },
          "execution_count": 1,
          "metadata": {},
          "output_type": "execute_result"
        }
      ],
      "source": [
        "from pathlib import Path\n",
        "\n",
        "PROJECT_ROOT = Path(\".\").resolve()\n",
        "\n",
        "DATA_RAW     = PROJECT_ROOT / \"data\" / \"raw\"\n",
        "DATA_INT     = PROJECT_ROOT / \"data\" / \"interim\"\n",
        "DATA_PROC    = PROJECT_ROOT / \"data\" / \"processed\"\n",
        "MODELS_DIR   = PROJECT_ROOT / \"models\"\n",
        "REPORTS_DIR  = PROJECT_ROOT / \"reports\"\n",
        "\n",
        "for d in [DATA_RAW, DATA_INT, DATA_PROC, MODELS_DIR, REPORTS_DIR]:\n",
        "    d.mkdir(parents=True, exist_ok=True)\n",
        "\n",
        "import pandas as pd\n",
        "import pandas as pd\n",
        "import numpy as np\n",
        "import matplotlib.pyplot as plt\n",
        "\n",
        "pd.set_option(\"display.max_columns\", None)\n",
        "pd.set_option(\"display.width\", 120)\n",
        "\n",
        "raw_path = DATA_RAW / \"udemy_course_data.csv\"\n",
        "df = pd.read_csv(raw_path)\n",
        "print(\"Dimensões:\", df.shape)\n",
        "df.head()\n",
        "\n"
      ]
    },
    {
      "cell_type": "markdown",
      "id": "RaNXChCv_aL9",
      "metadata": {
        "id": "RaNXChCv_aL9"
      },
      "source": [
        "# 2 - Estrutura: colunas, tipos e amostra"
      ]
    },
    {
      "cell_type": "code",
      "execution_count": 2,
      "id": "pHrP-NOP8_MH",
      "metadata": {
        "colab": {
          "base_uri": "https://localhost:8080/"
        },
        "id": "pHrP-NOP8_MH",
        "outputId": "3242042e-7494-467f-a7d9-69f039622adc"
      },
      "outputs": [
        {
          "name": "stdout",
          "output_type": "stream",
          "text": [
            "Colunas:\n",
            " ['course_id', 'course_title', 'url', 'is_paid', 'price', 'num_subscribers', 'num_reviews', 'num_lectures', 'level', 'content_duration', 'published_timestamp', 'subject', 'profit', 'published_date', 'published_time', 'year', 'month', 'day']\n",
            "\n",
            "Tipos de dados:\n",
            " course_id               int64\n",
            "course_title           object\n",
            "url                    object\n",
            "is_paid                  bool\n",
            "price                   int64\n",
            "num_subscribers         int64\n",
            "num_reviews             int64\n",
            "num_lectures            int64\n",
            "level                  object\n",
            "content_duration       object\n",
            "published_timestamp    object\n",
            "subject                object\n",
            "profit                  int64\n",
            "published_date         object\n",
            "published_time         object\n",
            "year                    int64\n",
            "month                   int64\n",
            "day                     int64\n",
            "dtype: object\n",
            "      course_id                                       course_title                                                url  \\\n",
            "1655    1104858                                Photoshop Tools 101           https://www.udemy.com/photoshoptools101/   \n",
            "2262     207304              Aprende a tocar la guitarra eléctrica  https://www.udemy.com/aprende-a-tocar-la-guita...   \n",
            "848      180384                               Yield Curve Dynamics        https://www.udemy.com/yield-curve-dynamics/   \n",
            "1334     780150                         Learning Photoshop CC 2015  https://www.udemy.com/learning-photoshop-cc-2015/   \n",
            "889     1087466  Stop Creditors from Harassing you and Avoid Ba...  https://www.udemy.com/stop-creditor-harassment...   \n",
            "1020     614668  8 Steps To Achieve Financial Freedom And Escap...  https://www.udemy.com/achieve-financial-freedo...   \n",
            "3464     863976  PHP - Send and Receive Mobile Text Messages (SMS)  https://www.udemy.com/php-send-and-receive-mob...   \n",
            "154      377370  Learn to Trade the Stock Market without Blowin...  https://www.udemy.com/learn-to-trade-the-stock...   \n",
            "3041     590406      Learn ReactJS: Code Like A Facebook Developer              https://www.udemy.com/learn-react-js/   \n",
            "2696     791030                     Power up HTML5 with JavaScript  https://www.udemy.com/power-up-html5-with-java...   \n",
            "\n",
            "      is_paid  price  num_subscribers  num_reviews  num_lectures               level content_duration  \\\n",
            "1655     True     50                6            0            49          All Levels          3 hours   \n",
            "2262     True     50                3            0            39          All Levels        5.5 hours   \n",
            "848      True     50              397           24            19          All Levels          3 hours   \n",
            "1334     True     50              311           49           163          All Levels       10.5 hours   \n",
            "889      True     20                0            0             7      Beginner Level          37 mins   \n",
            "1020     True     40                5            0            48      Beginner Level        5.5 hours   \n",
            "3464     True     50             1626           81            18          All Levels        1.5 hours   \n",
            "154      True     60             6967           16            34          All Levels           1 hour   \n",
            "3041     True     20             1948           72            45  Intermediate Level          5 hours   \n",
            "2696     True    100             4442           23            28      Beginner Level          2 hours   \n",
            "\n",
            "       published_timestamp              subject  profit published_date published_time  year  month  day  \n",
            "1655  2017-05-01T21:49:18Z       Graphic Design     300     2017-05-01      21:49:18Z  2017      5    1  \n",
            "2262  2014-04-30T16:21:42Z  Musical Instruments     150     2014-04-30      16:21:42Z  2014      4   30  \n",
            "848   2014-03-12T14:54:48Z     Business Finance   19850     2014-03-12      14:54:48Z  2014      3   12  \n",
            "1334  2016-03-08T16:53:07Z       Graphic Design   15550     2016-03-08      16:53:07Z  2016      3    8  \n",
            "889   2017-02-02T16:22:37Z     Business Finance       0     2017-02-02      16:22:37Z  2017      2    2  \n",
            "1020  2015-11-13T17:43:47Z     Business Finance     200     2015-11-13      17:43:47Z  2015     11   13  \n",
            "3464  2016-06-15T23:04:19Z      Web Development   81300     2016-06-15      23:04:19Z  2016      6   15  \n",
            "154   2017-05-02T20:53:24Z     Business Finance  418020     2017-05-02      20:53:24Z  2017      5    2  \n",
            "3041  2015-08-24T20:31:54Z      Web Development   38960     2015-08-24      20:31:54Z  2015      8   24  \n",
            "2696  2016-03-15T18:03:33Z      Web Development  444200     2016-03-15      18:03:33Z  2016      3   15  \n"
          ]
        }
      ],
      "source": [
        "print(\"Colunas:\\n\", list(df.columns))\n",
        "print(\"\\nTipos de dados:\\n\", df.dtypes)\n",
        "print(df.sample(10))\n"
      ]
    },
    {
      "cell_type": "markdown",
      "id": "3kCu0sb7_frS",
      "metadata": {
        "id": "3kCu0sb7_frS"
      },
      "source": [
        "# 3 - Nulos e duplicados"
      ]
    },
    {
      "cell_type": "code",
      "execution_count": 3,
      "id": "1lnwD9oh9UJe",
      "metadata": {
        "colab": {
          "base_uri": "https://localhost:8080/"
        },
        "id": "1lnwD9oh9UJe",
        "outputId": "fbbb52c8-e7c8-47f5-cab6-c1cbf816c783"
      },
      "outputs": [
        {
          "name": "stdout",
          "output_type": "stream",
          "text": [
            "Nulos por coluna (ordem desc):\n",
            "published_time         1\n",
            "course_id              0\n",
            "course_title           0\n",
            "url                    0\n",
            "price                  0\n",
            "is_paid                0\n",
            "num_reviews            0\n",
            "num_lectures           0\n",
            "level                  0\n",
            "num_subscribers        0\n",
            "content_duration       0\n",
            "published_timestamp    0\n",
            "profit                 0\n",
            "subject                0\n",
            "published_date         0\n",
            "year                   0\n",
            "month                  0\n",
            "day                    0\n",
            "dtype: int64\n",
            "{'duplicados_por_course_id': np.int64(6), 'duplicados_por_course_title': np.int64(15)}\n"
          ]
        }
      ],
      "source": [
        "nulls = df.isnull().sum().sort_values(ascending=False)\n",
        "print(\"Nulos por coluna (ordem desc):\")\n",
        "print(nulls)\n",
        "\n",
        "dup_id = df.duplicated(subset=[\"course_id\"]).sum() if \"course_id\" in df.columns else None\n",
        "dup_title = df.duplicated(subset=[\"course_title\"]).sum() if \"course_title\" in df.columns else None\n",
        "print({\"duplicados_por_course_id\": dup_id, \"duplicados_por_course_title\": dup_title})\n"
      ]
    },
    {
      "cell_type": "markdown",
      "id": "u9OuOPbH_juZ",
      "metadata": {
        "id": "u9OuOPbH_juZ"
      },
      "source": [
        "# 4 - Engenharia leve: duração (horas), pago/gratuito, datas"
      ]
    },
    {
      "cell_type": "code",
      "execution_count": 4,
      "id": "0y9GyPiv9WrW",
      "metadata": {
        "colab": {
          "base_uri": "https://localhost:8080/"
        },
        "id": "0y9GyPiv9WrW",
        "outputId": "ef16ac95-8680-47c5-b27e-6f2e035198bf"
      },
      "outputs": [
        {
          "name": "stdout",
          "output_type": "stream",
          "text": [
            "   course_id                                       course_title                                                url  \\\n",
            "0    1070968                 Ultimate Investment Banking Course  https://www.udemy.com/ultimate-investment-bank...   \n",
            "1    1113822  Complete GST Course & Certification - Grow You...      https://www.udemy.com/goods-and-services-tax/   \n",
            "2    1006314  Financial Modeling for Business Analysts and C...  https://www.udemy.com/financial-modeling-for-b...   \n",
            "3    1210588  Beginner to Pro - Financial Analysis in Excel ...  https://www.udemy.com/complete-excel-finance-c...   \n",
            "4    1011058       How To Maximize Your Profits Trading Options  https://www.udemy.com/how-to-maximize-your-pro...   \n",
            "\n",
            "   is_paid  price  num_subscribers  num_reviews  num_lectures               level content_duration  \\\n",
            "0     True    200             2147           23            51          All Levels        1.5 hours   \n",
            "1     True     75             2792          923           274          All Levels         39 hours   \n",
            "2     True     45             2174           74            51  Intermediate Level        2.5 hours   \n",
            "3     True     95             2451           11            36          All Levels          3 hours   \n",
            "4     True    200             1276           45            26  Intermediate Level          2 hours   \n",
            "\n",
            "    published_timestamp           subject  profit published_date published_time    year  month   day  \\\n",
            "0  2017-01-18T20:58:58Z  Business Finance  429400     2017-01-18      20:58:58Z  2017.0    1.0  18.0   \n",
            "1  2017-03-09T16:34:20Z  Business Finance  209400     2017-03-09      16:34:20Z  2017.0    3.0   9.0   \n",
            "2  2016-12-19T19:26:30Z  Business Finance   97830     2016-12-19      19:26:30Z  2016.0   12.0  19.0   \n",
            "3  2017-05-30T20:07:24Z  Business Finance  232845     2017-05-30      20:07:24Z  2017.0    5.0  30.0   \n",
            "4  2016-12-13T14:57:18Z  Business Finance  255200     2016-12-13      14:57:18Z  2016.0   12.0  13.0   \n",
            "\n",
            "   content_duration_hours paid_label              published_dt  \n",
            "0                     1.5       Pago 2017-01-18 20:58:58+00:00  \n",
            "1                    39.0       Pago 2017-03-09 16:34:20+00:00  \n",
            "2                     2.5       Pago 2016-12-19 19:26:30+00:00  \n",
            "3                     3.0       Pago 2017-05-30 20:07:24+00:00  \n",
            "4                     2.0       Pago 2016-12-13 14:57:18+00:00  \n"
          ]
        }
      ],
      "source": [
        "def parse_hours(x: str):\n",
        "    if pd.isna(x):\n",
        "        return np.nan\n",
        "    s = str(x).strip().lower()\n",
        "    if \"hour\" in s:\n",
        "        try:\n",
        "            return float(s.split()[0])\n",
        "        except:\n",
        "            return np.nan\n",
        "    if \"min\" in s:\n",
        "        try:\n",
        "            return float(s.split()[0]) / 60.0\n",
        "        except:\n",
        "            return np.nan\n",
        "    try:\n",
        "        return float(s)\n",
        "    except:\n",
        "        return np.nan\n",
        "\n",
        "if \"content_duration\" in df.columns:\n",
        "    df[\"content_duration_hours\"] = df[\"content_duration\"].apply(parse_hours)\n",
        "\n",
        "# rótulo de pago/gratuito\n",
        "if \"is_paid\" in df.columns:\n",
        "    tmp = df[\"is_paid\"].astype(str).str.lower()\n",
        "    mapper = {\"true\": True, \"false\": False, \"paid\": True, \"free\": False}\n",
        "    paid_bool = tmp.map(lambda v: mapper.get(v, np.nan))\n",
        "    if paid_bool.isna().mean() > 0.4 and \"price\" in df.columns:\n",
        "        paid_bool = pd.to_numeric(df[\"price\"], errors=\"coerce\").fillna(0) > 0\n",
        "    df[\"paid_label\"] = np.where(paid_bool, \"Pago\", \"Gratuito\")\n",
        "elif \"price\" in df.columns:\n",
        "    df[\"paid_label\"] = np.where(pd.to_numeric(df[\"price\"], errors=\"coerce\").fillna(0) > 0, \"Pago\", \"Gratuito\")\n",
        "\n",
        "# datas\n",
        "if \"published_timestamp\" in df.columns:\n",
        "    df[\"published_dt\"] = pd.to_datetime(df[\"published_timestamp\"], errors=\"coerce\")\n",
        "elif \"published_date\" in df.columns:\n",
        "    df[\"published_dt\"] = pd.to_datetime(df[\"published_date\"] + \" \" + df.get(\"published_time\", \"\"), errors=\"coerce\")\n",
        "else:\n",
        "    df[\"published_dt\"] = pd.NaT\n",
        "\n",
        "df[\"year\"] = df[\"published_dt\"].dt.year\n",
        "df[\"month\"] = df[\"published_dt\"].dt.month\n",
        "df[\"day\"] = df[\"published_dt\"].dt.day\n",
        "\n",
        "print(df.head())\n"
      ]
    },
    {
      "cell_type": "markdown",
      "id": "ksuDrA0D_lb-",
      "metadata": {
        "id": "ksuDrA0D_lb-"
      },
      "source": [
        "# 5 - Resumo estatístico de numéricos"
      ]
    },
    {
      "cell_type": "code",
      "execution_count": 5,
      "id": "asv8P0039ZDD",
      "metadata": {
        "colab": {
          "base_uri": "https://localhost:8080/"
        },
        "id": "asv8P0039ZDD",
        "outputId": "18745fdd-5edc-4114-f26b-848f96540dd2"
      },
      "outputs": [
        {
          "name": "stdout",
          "output_type": "stream",
          "text": [
            "                         count           mean           std     min     25%      50%       75%         max\n",
            "price                   3683.0      65.992398  6.098559e+01     0.0    20.0     45.0      95.0       200.0\n",
            "num_subscribers         3683.0    3193.371165  9.498231e+03     0.0   110.0    911.0    2537.5    268923.0\n",
            "num_reviews             3683.0     156.448004  9.350782e+02     0.0     4.0     18.0      67.0     27445.0\n",
            "num_lectures            3683.0      40.062178  5.036679e+01     0.0    15.0     25.0      45.0       779.0\n",
            "profit                  3683.0  240288.459137  1.000760e+06     0.0  1567.5  23050.0  118260.0  24316800.0\n",
            "content_duration_hours  3678.0       4.094517  6.053840e+00     0.0     1.0      2.0       4.5        78.5\n",
            "year                    3682.0    2015.432917  1.185800e+00  2011.0  2015.0   2016.0    2016.0      2017.0\n",
            "month                   3682.0       6.164041  3.378702e+00     1.0     3.0      6.0       9.0        12.0\n",
            "day                     3682.0      15.840576  8.782027e+00     1.0     8.0     16.0      23.0        31.0\n"
          ]
        }
      ],
      "source": [
        "num_cols = [c for c in [\"price\",\"num_subscribers\",\"num_reviews\",\"num_lectures\",\"profit\",\"content_duration_hours\",\"year\",\"month\",\"day\"] if c in df.columns]\n",
        "print(df[num_cols].describe().T)\n"
      ]
    },
    {
      "cell_type": "markdown",
      "id": "_I1X3Tmg_pHZ",
      "metadata": {
        "id": "_I1X3Tmg_pHZ"
      },
      "source": [
        "# 6 - Distribuição por assunto (subject)"
      ]
    },
    {
      "cell_type": "code",
      "execution_count": 6,
      "id": "OJd1Do5f9bEF",
      "metadata": {
        "colab": {
          "base_uri": "https://localhost:8080/",
          "height": 582
        },
        "id": "OJd1Do5f9bEF",
        "outputId": "20dd8407-3cb0-4da5-d183-52235f264184"
      },
      "outputs": [
        {
          "data": {
            "image/png": "[encoded data removed]",
            "text/plain": [
              "<Figure size 900x500 with 1 Axes>"
            ]
          },
          "metadata": {},
          "output_type": "display_data"
        }
      ],
      "source": [
        "if \"subject\" in df.columns:\n",
        "    plt.figure(figsize=(9,5))\n",
        "    df[\"subject\"].value_counts().head(15).plot(kind=\"bar\")\n",
        "    plt.title(\"Top 15 assuntos (subject)\")\n",
        "    plt.xlabel(\"Assunto\")\n",
        "    plt.ylabel(\"Quantidade de cursos\")\n",
        "    plt.xticks(rotation=45, ha=\"right\")\n",
        "    plt.show()\n"
      ]
    },
    {
      "cell_type": "markdown",
      "id": "gxh_1CxD_rt3",
      "metadata": {
        "id": "gxh_1CxD_rt3"
      },
      "source": [
        "# 7 - Distribuição por nível (level)"
      ]
    },
    {
      "cell_type": "code",
      "execution_count": 7,
      "id": "7owT77AY9bjm",
      "metadata": {
        "colab": {
          "base_uri": "https://localhost:8080/",
          "height": 411
        },
        "id": "7owT77AY9bjm",
        "outputId": "bcac8fe1-db83-4b60-8bd1-8e753f397d20"
      },
      "outputs": [
        {
          "data": {
            "image/png": "[encoded data removed]",
            "text/plain": [
              "<Figure size 700x400 with 1 Axes>"
            ]
          },
          "metadata": {},
          "output_type": "display_data"
        }
      ],
      "source": [
        "if \"level\" in df.columns:\n",
        "    plt.figure(figsize=(7,4))\n",
        "    df[\"level\"].fillna(\"Unknown\").value_counts().plot(kind=\"bar\")\n",
        "    plt.title(\"Distribuição por nível\")\n",
        "    plt.xlabel(\"Nível\")\n",
        "    plt.ylabel(\"Quantidade de cursos\")\n",
        "    plt.xticks(rotation=0)\n",
        "    plt.show()\n"
      ]
    },
    {
      "cell_type": "markdown",
      "id": "qZid2lF5_uDW",
      "metadata": {
        "id": "qZid2lF5_uDW"
      },
      "source": [
        "# 8 - Pagos vs Gratuitos"
      ]
    },
    {
      "cell_type": "code",
      "execution_count": 8,
      "id": "h_2Bqs7V9bmY",
      "metadata": {
        "colab": {
          "base_uri": "https://localhost:8080/",
          "height": 410
        },
        "id": "h_2Bqs7V9bmY",
        "outputId": "9d4dfc23-6935-4507-ddec-205b73fd0d07"
      },
      "outputs": [
        {
          "data": {
            "image/png": "[encoded data removed]",
            "text/plain": [
              "<Figure size 600x400 with 1 Axes>"
            ]
          },
          "metadata": {},
          "output_type": "display_data"
        }
      ],
      "source": [
        "if \"paid_label\" in df.columns:\n",
        "    plt.figure(figsize=(6,4))\n",
        "    df[\"paid_label\"].value_counts().plot(kind=\"bar\")\n",
        "    plt.title(\"Cursos pagos vs gratuitos\")\n",
        "    plt.xlabel(\"Tipo\")\n",
        "    plt.ylabel(\"Quantidade\")\n",
        "    plt.xticks(rotation=0)\n",
        "    plt.show()\n"
      ]
    },
    {
      "cell_type": "markdown",
      "id": "a5zKn_nS_wiQ",
      "metadata": {
        "id": "a5zKn_nS_wiQ"
      },
      "source": [
        "# 9 - Distribuição de preço"
      ]
    },
    {
      "cell_type": "code",
      "execution_count": 9,
      "id": "fpX6sS1j9bpF",
      "metadata": {
        "colab": {
          "base_uri": "https://localhost:8080/",
          "height": 410
        },
        "id": "fpX6sS1j9bpF",
        "outputId": "ff1ef289-2ab6-49b3-f0b8-036a8d6b4531"
      },
      "outputs": [
        {
          "data": {
            "image/png": "[encoded data removed]",
            "text/plain": [
              "<Figure size 700x400 with 1 Axes>"
            ]
          },
          "metadata": {},
          "output_type": "display_data"
        }
      ],
      "source": [
        "if \"price\" in df.columns:\n",
        "    plt.figure(figsize=(7,4))\n",
        "    pd.to_numeric(df[\"price\"], errors=\"coerce\").dropna().hist(bins=30)\n",
        "    plt.title(\"Distribuição de preço\")\n",
        "    plt.xlabel(\"Preço\")\n",
        "    plt.ylabel(\"Frequência\")\n",
        "    plt.show()\n"
      ]
    },
    {
      "cell_type": "markdown",
      "id": "EyrBFIus_y5P",
      "metadata": {
        "id": "EyrBFIus_y5P"
      },
      "source": [
        "# 10 - Distribuição de inscritos (log1p)"
      ]
    },
    {
      "cell_type": "code",
      "execution_count": 10,
      "id": "v1LcVf2j9bra",
      "metadata": {
        "colab": {
          "base_uri": "https://localhost:8080/",
          "height": 410
        },
        "id": "v1LcVf2j9bra",
        "outputId": "8016f0ea-db08-4072-b721-bb5252235d95"
      },
      "outputs": [
        {
          "data": {
            "image/png": "[encoded data removed]",
            "text/plain": [
              "<Figure size 700x400 with 1 Axes>"
            ]
          },
          "metadata": {},
          "output_type": "display_data"
        }
      ],
      "source": [
        "if \"num_subscribers\" in df.columns:\n",
        "    plt.figure(figsize=(7,4))\n",
        "    np.log1p(pd.to_numeric(df[\"num_subscribers\"], errors=\"coerce\")).dropna().hist(bins=30)\n",
        "    plt.title(\"Distribuição de inscritos (log1p)\")\n",
        "    plt.xlabel(\"log1p(num_subscribers)\")\n",
        "    plt.ylabel(\"Frequência\")\n",
        "    plt.show()\n"
      ]
    },
    {
      "cell_type": "markdown",
      "id": "VpfAzT3z_09Y",
      "metadata": {
        "id": "VpfAzT3z_09Y"
      },
      "source": [
        "# 11 - Distribuição da duração (horas)"
      ]
    },
    {
      "cell_type": "code",
      "execution_count": 11,
      "id": "6e3gvf4y9btf",
      "metadata": {
        "colab": {
          "base_uri": "https://localhost:8080/",
          "height": 410
        },
        "id": "6e3gvf4y9btf",
        "outputId": "c35a09a2-2ea3-4917-d11e-7e6354ae9ce6"
      },
      "outputs": [
        {
          "data": {
            "image/png": "[encoded data removed]",
            "text/plain": [
              "<Figure size 700x400 with 1 Axes>"
            ]
          },
          "metadata": {},
          "output_type": "display_data"
        }
      ],
      "source": [
        "if \"content_duration_hours\" in df.columns:\n",
        "    plt.figure(figsize=(7,4))\n",
        "    pd.to_numeric(df[\"content_duration_hours\"], errors=\"coerce\").dropna().hist(bins=30)\n",
        "    plt.title(\"Distribuição da duração (horas)\")\n",
        "    plt.xlabel(\"Horas\")\n",
        "    plt.ylabel(\"Frequência\")\n",
        "    plt.show()\n"
      ]
    },
    {
      "cell_type": "markdown",
      "id": "muqqjynf_3Bs",
      "metadata": {
        "id": "muqqjynf_3Bs"
      },
      "source": [
        "# 12 - Top 10 por número de inscritos"
      ]
    },
    {
      "cell_type": "code",
      "execution_count": null,
      "id": "fScGwRsM9bwU",
      "metadata": {
        "colab": {
          "base_uri": "https://localhost:8080/"
        },
        "id": "fScGwRsM9bwU",
        "outputId": "ac8998e5-c3ac-49b4-dd5a-8df3c442398e"
      },
      "outputs": [
        {
          "name": "stdout",
          "output_type": "stream",
          "text": [
            "      course_id                                       course_title              subject           level  price  \\\n",
            "2832      41295               Learn HTML5 Programming From Scratch      Web Development      All Levels      0   \n",
            "3037      59014                     Coding for Entrepreneurs Basic      Web Development  Beginner Level      0   \n",
            "3235     625204                         The Web Developer Bootcamp      Web Development      All Levels    200   \n",
            "2788     173548  Build Your First Website in 1 Week with HTML5 ...      Web Development  Beginner Level      0   \n",
            "3237     764164              The Complete Web Developer Course 2.0      Web Development      All Levels    200   \n",
            "1900      19421              Free Beginner Electric Guitar Lessons  Musical Instruments  Beginner Level      0   \n",
            "2594     473160  Web Design for Web Developers: Build Beautiful...      Web Development      All Levels      0   \n",
            "2624      94430             Learn Javascript & JQuery From Scratch      Web Development      All Levels     30   \n",
            "3294     130064  Practical PHP: Master the Basics and Code Dyna...      Web Development      All Levels      0   \n",
            "3252     364426          JavaScript: Understanding the Weird Parts      Web Development      All Levels    175   \n",
            "\n",
            "      num_subscribers  \n",
            "2832           268923  \n",
            "3037           161029  \n",
            "3235           121584  \n",
            "2788           120291  \n",
            "3237           114512  \n",
            "1900           101154  \n",
            "2594            98867  \n",
            "2624            84897  \n",
            "3294            83737  \n",
            "3252            79612  \n"
          ]
        }
      ],
      "source": [
        "cols_show = [c for c in [\"course_id\",\"course_title\",\"subject\",\"level\",\"price\",\"num_subscribers\"] if c in df.columns]\n",
        "if \"num_subscribers\" in df.columns:\n",
        "    top10 = df.sort_values(\"num_subscribers\", ascending=False)[cols_show].head()\n",
        "    print(top10)\n"
      ]
    },
    {
      "cell_type": "markdown",
      "id": "zWKB1Ipq_5A9",
      "metadata": {
        "id": "zWKB1Ipq_5A9"
      },
      "source": [
        "# 13 - Correlação entre variáveis numéricas"
      ]
    },
    {
      "cell_type": "code",
      "execution_count": 13,
      "id": "kObGNLtw9byF",
      "metadata": {
        "colab": {
          "base_uri": "https://localhost:8080/"
        },
        "id": "kObGNLtw9byF",
        "outputId": "7e1ef15e-2ff0-4c6c-db53-d91285bbd368"
      },
      "outputs": [
        {
          "name": "stdout",
          "output_type": "stream",
          "text": [
            "                           price  num_subscribers  num_reviews  num_lectures    profit  content_duration_hours  \\\n",
            "price                   1.000000         0.051028     0.113319      0.330505  0.346699                0.293450   \n",
            "num_subscribers         0.051028         1.000000     0.649649      0.157945  0.557213                0.161839   \n",
            "num_reviews             0.113319         0.649649     1.000000      0.242933  0.769654                0.228889   \n",
            "num_lectures            0.330505         0.157945     0.242933      1.000000  0.321901                0.801647   \n",
            "profit                  0.346699         0.557213     0.769654      0.321901  1.000000                0.296736   \n",
            "content_duration_hours  0.293450         0.161839     0.228889      0.801647  0.296736                1.000000   \n",
            "year                    0.131990        -0.184796    -0.053501     -0.026196 -0.059276               -0.058752   \n",
            "month                   0.038413         0.015258     0.006862      0.031839  0.035095                0.020887   \n",
            "day                     0.012315         0.005930    -0.003746     -0.006968  0.001164               -0.002267   \n",
            "\n",
            "                            year     month       day  \n",
            "price                   0.131990  0.038413  0.012315  \n",
            "num_subscribers        -0.184796  0.015258  0.005930  \n",
            "num_reviews            -0.053501  0.006862 -0.003746  \n",
            "num_lectures           -0.026196  0.031839 -0.006968  \n",
            "profit                 -0.059276  0.035095  0.001164  \n",
            "content_duration_hours -0.058752  0.020887 -0.002267  \n",
            "year                    1.000000 -0.287872 -0.016901  \n",
            "month                  -0.287872  1.000000  0.015256  \n",
            "day                    -0.016901  0.015256  1.000000  \n"
          ]
        }
      ],
      "source": [
        "if len(num_cols) > 0:\n",
        "    corr = df[num_cols].corr(numeric_only=True)\n",
        "    print(corr)\n"
      ]
    },
    {
      "cell_type": "markdown",
      "id": "l_LQO8b7_7vS",
      "metadata": {
        "id": "l_LQO8b7_7vS"
      },
      "source": [
        "# 14 - Limpeza e exportação do dataset"
      ]
    },
    {
      "cell_type": "code",
      "execution_count": null,
      "id": "aQC9q5R59b0m",
      "metadata": {
        "colab": {
          "base_uri": "https://localhost:8080/"
        },
        "id": "aQC9q5R59b0m",
        "outputId": "0e98563e-7442-4c71-d06e-d748f53dcb2f"
      },
      "outputs": [
        {
          "name": "stdout",
          "output_type": "stream",
          "text": [
            "Arquivo limpo gerado em: C:\\Users\\lsbar\\OneDrive\\Mackenzie\\Projeto Aplicado III\\Entrega 3\\Projeto\\data\\interim\\udemy_courses_clean.csv\n",
            "Arquivo limpo gerado em: C:\\Users\\lsbar\\OneDrive\\Mackenzie\\Projeto Aplicado III\\Entrega 3\\Projeto\\data\\interim\\udemy_courses_clean.csv\n",
            "   course_id                                       course_title                                                url  \\\n",
            "0    1070968                 Ultimate Investment Banking Course  https://www.udemy.com/ultimate-investment-bank...   \n",
            "1    1113822  Complete GST Course & Certification - Grow You...      https://www.udemy.com/goods-and-services-tax/   \n",
            "2    1006314  Financial Modeling for Business Analysts and C...  https://www.udemy.com/financial-modeling-for-b...   \n",
            "3    1210588  Beginner to Pro - Financial Analysis in Excel ...  https://www.udemy.com/complete-excel-finance-c...   \n",
            "4    1011058       How To Maximize Your Profits Trading Options  https://www.udemy.com/how-to-maximize-your-pro...   \n",
            "5     192870  Trading Penny Stocks: A Guide for All Levels I...  https://www.udemy.com/trading-penny-stocks-a-g...   \n",
            "6     739964  Investing And Trading For Beginners: Mastering...  https://www.udemy.com/investing-and-trading-fo...   \n",
            "7     403100  Trading Stock Chart Patterns For Immediate, Ex...  https://www.udemy.com/trading-chart-patterns-f...   \n",
            "8     476268  Options Trading 3 : Advanced Stock Profit and ...  https://www.udemy.com/day-trading-stock-option...   \n",
            "9    1167710  The Only Investment Strategy You Need For Your...  https://www.udemy.com/the-only-investment-stra...   \n",
            "\n",
            "   is_paid  price  num_subscribers  num_reviews  num_lectures               level content_duration  \\\n",
            "0     True    200             2147           23            51          All Levels        1.5 hours   \n",
            "1     True     75             2792          923           274          All Levels         39 hours   \n",
            "2     True     45             2174           74            51  Intermediate Level        2.5 hours   \n",
            "3     True     95             2451           11            36          All Levels          3 hours   \n",
            "4     True    200             1276           45            26  Intermediate Level          2 hours   \n",
            "5     True    150             9221          138            25          All Levels          3 hours   \n",
            "6     True     65             1540          178            26      Beginner Level           1 hour   \n",
            "7     True     95             2917          148            23          All Levels        2.5 hours   \n",
            "8     True    195             5172           34            38        Expert Level        2.5 hours   \n",
            "9     True    200              827           14            15          All Levels           1 hour   \n",
            "\n",
            "    published_timestamp           subject   profit published_date published_time    year  month   day  \\\n",
            "0  2017-01-18T20:58:58Z  Business Finance   429400     2017-01-18      20:58:58Z  2017.0    1.0  18.0   \n",
            "1  2017-03-09T16:34:20Z  Business Finance   209400     2017-03-09      16:34:20Z  2017.0    3.0   9.0   \n",
            "2  2016-12-19T19:26:30Z  Business Finance    97830     2016-12-19      19:26:30Z  2016.0   12.0  19.0   \n",
            "3  2017-05-30T20:07:24Z  Business Finance   232845     2017-05-30      20:07:24Z  2017.0    5.0  30.0   \n",
            "4  2016-12-13T14:57:18Z  Business Finance   255200     2016-12-13      14:57:18Z  2016.0   12.0  13.0   \n",
            "5  2014-05-02T15:13:30Z  Business Finance  1383150     2014-05-02      15:13:30Z  2014.0    5.0   2.0   \n",
            "6  2016-02-21T18:23:12Z  Business Finance   100100     2016-02-21      18:23:12Z  2016.0    2.0  21.0   \n",
            "7  2015-01-30T22:13:03Z  Business Finance   277115     2015-01-30      22:13:03Z  2015.0    1.0  30.0   \n",
            "8  2015-05-28T00:14:03Z  Business Finance  1008540     2015-05-28      00:14:03Z  2015.0    5.0  28.0   \n",
            "9  2017-04-18T18:13:32Z  Business Finance   165400     2017-04-18      18:13:32Z  2017.0    4.0  18.0   \n",
            "\n",
            "   content_duration_hours paid_label              published_dt          level_norm      subject_norm  \n",
            "0                     1.5       Pago 2017-01-18 20:58:58+00:00          all levels  business finance  \n",
            "1                    39.0       Pago 2017-03-09 16:34:20+00:00          all levels  business finance  \n",
            "2                     2.5       Pago 2016-12-19 19:26:30+00:00  intermediate level  business finance  \n",
            "3                     3.0       Pago 2017-05-30 20:07:24+00:00          all levels  business finance  \n",
            "4                     2.0       Pago 2016-12-13 14:57:18+00:00  intermediate level  business finance  \n",
            "5                     3.0       Pago 2014-05-02 15:13:30+00:00          all levels  business finance  \n",
            "6                     1.0       Pago 2016-02-21 18:23:12+00:00      beginner level  business finance  \n",
            "7                     2.5       Pago 2015-01-30 22:13:03+00:00          all levels  business finance  \n",
            "8                     2.5       Pago 2015-05-28 00:14:03+00:00        expert level  business finance  \n",
            "9                     1.0       Pago 2017-04-18 18:13:32+00:00          all levels  business finance  \n"
          ]
        }
      ],
      "source": [
        "clean = df.copy()\n",
        "\n",
        "# Remoção de duplicatas\n",
        "if \"course_id\" in clean.columns:\n",
        "    clean = clean.drop_duplicates(subset=[\"course_id\"])\n",
        "if \"course_title\" in clean.columns:\n",
        "    clean = clean.drop_duplicates(subset=[\"course_title\"])\n",
        "\n",
        "# Conversões numéricas\n",
        "for col in [\"price\",\"num_subscribers\",\"num_reviews\",\"num_lectures\",\"profit\",\"content_duration_hours\",\"year\",\"month\",\"day\"]:\n",
        "    if col in clean.columns:\n",
        "        clean[col] = pd.to_numeric(clean[col], errors=\"coerce\")\n",
        "\n",
        "# Normalização leve (versões auxiliares)\n",
        "for col in [\"level\",\"subject\"]:\n",
        "    if col in clean.columns:\n",
        "        clean[col + \"_norm\"] = clean[col].astype(str).str.strip().str.lower()\n",
        "\n",
        "# Exporta CSV limpo\n",
        "clean_path = DATA_INT / \"udemy_courses_clean.csv\"\n",
        "clean.to_csv(clean_path, index=False)\n",
        "print(\"Arquivo limpo gerado em:\", clean_path)\n",
        "\n",
        "print(\"Arquivo limpo gerado em:\", clean_path)\n",
        "print(clean.head())"
      ]
    },
    {
      "cell_type": "markdown",
      "id": "6HC8ffXE_90m",
      "metadata": {
        "id": "6HC8ffXE_90m"
      },
      "source": [
        "# 15 - Resumo dos achados"
      ]
    },
    {
      "cell_type": "code",
      "execution_count": 17,
      "id": "1PCXjkxQ88oE",
      "metadata": {
        "colab": {
          "base_uri": "https://localhost:8080/"
        },
        "id": "1PCXjkxQ88oE",
        "outputId": "40d10281-05c3-4d23-914d-3dcb220baa7e"
      },
      "outputs": [
        {
          "data": {
            "text/plain": [
              "{'total_cursos': 3668,\n",
              " 'qtd_subjects': 4,\n",
              " 'percent_free': 8.424209378407852,\n",
              " 'colunas_disponiveis': ['course_id',\n",
              "  'course_title',\n",
              "  'url',\n",
              "  'is_paid',\n",
              "  'price',\n",
              "  'num_subscribers',\n",
              "  'num_reviews',\n",
              "  'num_lectures',\n",
              "  'level',\n",
              "  'content_duration',\n",
              "  'published_timestamp',\n",
              "  'subject',\n",
              "  'profit',\n",
              "  'published_date',\n",
              "  'published_time',\n",
              "  'year',\n",
              "  'month',\n",
              "  'day',\n",
              "  'content_duration_hours',\n",
              "  'paid_label',\n",
              "  'published_dt',\n",
              "  'level_norm',\n",
              "  'subject_norm']}"
            ]
          },
          "execution_count": 17,
          "metadata": {},
          "output_type": "execute_result"
        }
      ],
      "source": [
        "summary = {\n",
        "    \"total_cursos\": len(clean),\n",
        "    \"qtd_subjects\": clean[\"subject\"].nunique() if \"subject\" in clean.columns else None,\n",
        "    \"percent_free\": float((clean[\"is_paid\"] == False).mean()*100) if \"is_paid\" in clean.columns else None,\n",
        "    \"colunas_disponiveis\": list(clean.columns)\n",
        "}\n",
        "summary"
      ]
    },
    {
      "cell_type": "code",
      "execution_count": null,
      "id": "CS1oe9Vg92V-",
      "metadata": {
        "id": "CS1oe9Vg92V-"
      },
      "outputs": [],
      "source": []
    }
  ],
  "metadata": {
    "colab": {
      "provenance": [],
      "toc_visible": true
    },
    "kernelspec": {
      "display_name": "Python 3",
      "language": "python",
      "name": "python3"
    },
    "language_info": {
      "codemirror_mode": {
        "name": "ipython",
        "version": 3
      },
      "file_extension": ".py",
      "mimetype": "text/x-python",
      "name": "python",
      "nbconvert_exporter": "python",
      "pygments_lexer": "ipython3",
      "version": "3.13.7"
    }
  },
  "nbformat": 4,
  "nbformat_minor": 5
}
