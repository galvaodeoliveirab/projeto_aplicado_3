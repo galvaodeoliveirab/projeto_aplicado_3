{
 "cells": [
  {
   "cell_type": "markdown",
   "id": "430580b9",
   "metadata": {},
   "source": [
    "# Tratamento e Preparação da Base (Entrega 3)\n",
    "\n",
    "Objetivos:\n",
    "* Selecionar as variáveis relevantes\n",
    "* Transformas as variáveis para o uso do modelo"
   ]
  },
  {
   "cell_type": "markdown",
   "id": "f216d320",
   "metadata": {},
   "source": [
    "# 1 - Configurações do ambiente e carregamento do dataset"
   ]
  },
  {
   "cell_type": "code",
   "execution_count": 22,
   "id": "initial_id",
   "metadata": {
    "ExecuteTime": {
     "end_time": "2025-09-30T13:50:39.720592Z",
     "start_time": "2025-09-30T13:49:43.702033Z"
    },
    "collapsed": true
   },
   "outputs": [
    {
     "data": {
      "text/html": [
       "<div>\n",
       "<style scoped>\n",
       "    .dataframe tbody tr th:only-of-type {\n",
       "        vertical-align: middle;\n",
       "    }\n",
       "\n",
       "    .dataframe tbody tr th {\n",
       "        vertical-align: top;\n",
       "    }\n",
       "\n",
       "    .dataframe thead th {\n",
       "        text-align: right;\n",
       "    }\n",
       "</style>\n",
       "<table border=\"1\" class=\"dataframe\">\n",
       "  <thead>\n",
       "    <tr style=\"text-align: right;\">\n",
       "      <th></th>\n",
       "      <th>course_id</th>\n",
       "      <th>course_title</th>\n",
       "      <th>url</th>\n",
       "      <th>is_paid</th>\n",
       "      <th>price</th>\n",
       "      <th>num_subscribers</th>\n",
       "      <th>num_reviews</th>\n",
       "      <th>num_lectures</th>\n",
       "      <th>level</th>\n",
       "      <th>content_duration</th>\n",
       "      <th>published_timestamp</th>\n",
       "      <th>subject</th>\n",
       "      <th>profit</th>\n",
       "      <th>published_date</th>\n",
       "      <th>published_time</th>\n",
       "      <th>year</th>\n",
       "      <th>month</th>\n",
       "      <th>day</th>\n",
       "      <th>content_duration_hours</th>\n",
       "      <th>paid_label</th>\n",
       "      <th>published_dt</th>\n",
       "      <th>level_norm</th>\n",
       "      <th>subject_norm</th>\n",
       "    </tr>\n",
       "  </thead>\n",
       "  <tbody>\n",
       "    <tr>\n",
       "      <th>0</th>\n",
       "      <td>1070968</td>\n",
       "      <td>Ultimate Investment Banking Course</td>\n",
       "      <td>https://www.udemy.com/ultimate-investment-bank...</td>\n",
       "      <td>True</td>\n",
       "      <td>200</td>\n",
       "      <td>2147</td>\n",
       "      <td>23</td>\n",
       "      <td>51</td>\n",
       "      <td>All Levels</td>\n",
       "      <td>1.5 hours</td>\n",
       "      <td>2017-01-18T20:58:58Z</td>\n",
       "      <td>Business Finance</td>\n",
       "      <td>429400</td>\n",
       "      <td>2017-01-18</td>\n",
       "      <td>20:58:58Z</td>\n",
       "      <td>2017.0</td>\n",
       "      <td>1.0</td>\n",
       "      <td>18.0</td>\n",
       "      <td>1.5</td>\n",
       "      <td>Pago</td>\n",
       "      <td>2017-01-18 20:58:58+00:00</td>\n",
       "      <td>all levels</td>\n",
       "      <td>business finance</td>\n",
       "    </tr>\n",
       "    <tr>\n",
       "      <th>1</th>\n",
       "      <td>1113822</td>\n",
       "      <td>Complete GST Course &amp; Certification - Grow You...</td>\n",
       "      <td>https://www.udemy.com/goods-and-services-tax/</td>\n",
       "      <td>True</td>\n",
       "      <td>75</td>\n",
       "      <td>2792</td>\n",
       "      <td>923</td>\n",
       "      <td>274</td>\n",
       "      <td>All Levels</td>\n",
       "      <td>39 hours</td>\n",
       "      <td>2017-03-09T16:34:20Z</td>\n",
       "      <td>Business Finance</td>\n",
       "      <td>209400</td>\n",
       "      <td>2017-03-09</td>\n",
       "      <td>16:34:20Z</td>\n",
       "      <td>2017.0</td>\n",
       "      <td>3.0</td>\n",
       "      <td>9.0</td>\n",
       "      <td>39.0</td>\n",
       "      <td>Pago</td>\n",
       "      <td>2017-03-09 16:34:20+00:00</td>\n",
       "      <td>all levels</td>\n",
       "      <td>business finance</td>\n",
       "    </tr>\n",
       "    <tr>\n",
       "      <th>2</th>\n",
       "      <td>1006314</td>\n",
       "      <td>Financial Modeling for Business Analysts and C...</td>\n",
       "      <td>https://www.udemy.com/financial-modeling-for-b...</td>\n",
       "      <td>True</td>\n",
       "      <td>45</td>\n",
       "      <td>2174</td>\n",
       "      <td>74</td>\n",
       "      <td>51</td>\n",
       "      <td>Intermediate Level</td>\n",
       "      <td>2.5 hours</td>\n",
       "      <td>2016-12-19T19:26:30Z</td>\n",
       "      <td>Business Finance</td>\n",
       "      <td>97830</td>\n",
       "      <td>2016-12-19</td>\n",
       "      <td>19:26:30Z</td>\n",
       "      <td>2016.0</td>\n",
       "      <td>12.0</td>\n",
       "      <td>19.0</td>\n",
       "      <td>2.5</td>\n",
       "      <td>Pago</td>\n",
       "      <td>2016-12-19 19:26:30+00:00</td>\n",
       "      <td>intermediate level</td>\n",
       "      <td>business finance</td>\n",
       "    </tr>\n",
       "    <tr>\n",
       "      <th>3</th>\n",
       "      <td>1210588</td>\n",
       "      <td>Beginner to Pro - Financial Analysis in Excel ...</td>\n",
       "      <td>https://www.udemy.com/complete-excel-finance-c...</td>\n",
       "      <td>True</td>\n",
       "      <td>95</td>\n",
       "      <td>2451</td>\n",
       "      <td>11</td>\n",
       "      <td>36</td>\n",
       "      <td>All Levels</td>\n",
       "      <td>3 hours</td>\n",
       "      <td>2017-05-30T20:07:24Z</td>\n",
       "      <td>Business Finance</td>\n",
       "      <td>232845</td>\n",
       "      <td>2017-05-30</td>\n",
       "      <td>20:07:24Z</td>\n",
       "      <td>2017.0</td>\n",
       "      <td>5.0</td>\n",
       "      <td>30.0</td>\n",
       "      <td>3.0</td>\n",
       "      <td>Pago</td>\n",
       "      <td>2017-05-30 20:07:24+00:00</td>\n",
       "      <td>all levels</td>\n",
       "      <td>business finance</td>\n",
       "    </tr>\n",
       "    <tr>\n",
       "      <th>4</th>\n",
       "      <td>1011058</td>\n",
       "      <td>How To Maximize Your Profits Trading Options</td>\n",
       "      <td>https://www.udemy.com/how-to-maximize-your-pro...</td>\n",
       "      <td>True</td>\n",
       "      <td>200</td>\n",
       "      <td>1276</td>\n",
       "      <td>45</td>\n",
       "      <td>26</td>\n",
       "      <td>Intermediate Level</td>\n",
       "      <td>2 hours</td>\n",
       "      <td>2016-12-13T14:57:18Z</td>\n",
       "      <td>Business Finance</td>\n",
       "      <td>255200</td>\n",
       "      <td>2016-12-13</td>\n",
       "      <td>14:57:18Z</td>\n",
       "      <td>2016.0</td>\n",
       "      <td>12.0</td>\n",
       "      <td>13.0</td>\n",
       "      <td>2.0</td>\n",
       "      <td>Pago</td>\n",
       "      <td>2016-12-13 14:57:18+00:00</td>\n",
       "      <td>intermediate level</td>\n",
       "      <td>business finance</td>\n",
       "    </tr>\n",
       "  </tbody>\n",
       "</table>\n",
       "</div>"
      ],
      "text/plain": [
       "   course_id                                       course_title                                                url  \\\n",
       "0    1070968                 Ultimate Investment Banking Course  https://www.udemy.com/ultimate-investment-bank...   \n",
       "1    1113822  Complete GST Course & Certification - Grow You...      https://www.udemy.com/goods-and-services-tax/   \n",
       "2    1006314  Financial Modeling for Business Analysts and C...  https://www.udemy.com/financial-modeling-for-b...   \n",
       "3    1210588  Beginner to Pro - Financial Analysis in Excel ...  https://www.udemy.com/complete-excel-finance-c...   \n",
       "4    1011058       How To Maximize Your Profits Trading Options  https://www.udemy.com/how-to-maximize-your-pro...   \n",
       "\n",
       "   is_paid  price  num_subscribers  num_reviews  num_lectures               level content_duration  \\\n",
       "0     True    200             2147           23            51          All Levels        1.5 hours   \n",
       "1     True     75             2792          923           274          All Levels         39 hours   \n",
       "2     True     45             2174           74            51  Intermediate Level        2.5 hours   \n",
       "3     True     95             2451           11            36          All Levels          3 hours   \n",
       "4     True    200             1276           45            26  Intermediate Level          2 hours   \n",
       "\n",
       "    published_timestamp           subject  profit published_date published_time    year  month   day  \\\n",
       "0  2017-01-18T20:58:58Z  Business Finance  429400     2017-01-18      20:58:58Z  2017.0    1.0  18.0   \n",
       "1  2017-03-09T16:34:20Z  Business Finance  209400     2017-03-09      16:34:20Z  2017.0    3.0   9.0   \n",
       "2  2016-12-19T19:26:30Z  Business Finance   97830     2016-12-19      19:26:30Z  2016.0   12.0  19.0   \n",
       "3  2017-05-30T20:07:24Z  Business Finance  232845     2017-05-30      20:07:24Z  2017.0    5.0  30.0   \n",
       "4  2016-12-13T14:57:18Z  Business Finance  255200     2016-12-13      14:57:18Z  2016.0   12.0  13.0   \n",
       "\n",
       "   content_duration_hours paid_label               published_dt          level_norm      subject_norm  \n",
       "0                     1.5       Pago  2017-01-18 20:58:58+00:00          all levels  business finance  \n",
       "1                    39.0       Pago  2017-03-09 16:34:20+00:00          all levels  business finance  \n",
       "2                     2.5       Pago  2016-12-19 19:26:30+00:00  intermediate level  business finance  \n",
       "3                     3.0       Pago  2017-05-30 20:07:24+00:00          all levels  business finance  \n",
       "4                     2.0       Pago  2016-12-13 14:57:18+00:00  intermediate level  business finance  "
      ]
     },
     "execution_count": 22,
     "metadata": {},
     "output_type": "execute_result"
    }
   ],
   "source": [
    "from pathlib import Path\n",
    "\n",
    "PROJECT_ROOT = Path(\".\").resolve()\n",
    "\n",
    "DATA_RAW     = PROJECT_ROOT / \"data\" / \"raw\"\n",
    "DATA_INT     = PROJECT_ROOT / \"data\" / \"interim\"\n",
    "DATA_PROC    = PROJECT_ROOT / \"data\" / \"processed\"\n",
    "MODELS_DIR   = PROJECT_ROOT / \"models\"\n",
    "REPORTS_DIR  = PROJECT_ROOT / \"reports\"\n",
    "\n",
    "for d in [DATA_RAW, DATA_INT, DATA_PROC, MODELS_DIR, REPORTS_DIR]:\n",
    "    d.mkdir(parents=True, exist_ok=True)\n",
    "\n",
    "import pandas as pd\n",
    "import numpy as np\n",
    "import re\n",
    "from sklearn.preprocessing import MinMaxScaler\n",
    "\n",
    "pd.set_option(\"display.max_columns\", None)\n",
    "pd.set_option(\"display.width\", 120)\n",
    "\n",
    "raw_path = DATA_INT / \"udemy_courses_clean.csv\"\n",
    "df = pd.read_csv(raw_path)\n",
    "df.head()"
   ]
  },
  {
   "cell_type": "markdown",
   "id": "16ee652e",
   "metadata": {},
   "source": [
    "# 2 - Preenchimento de ausências em content_duration_hours"
   ]
  },
  {
   "cell_type": "code",
   "execution_count": 23,
   "id": "972bfa01",
   "metadata": {},
   "outputs": [],
   "source": [
    "if \"content_duration_hours\" in df.columns:\n",
    "    df[\"content_duration_hours\"] = df[\"content_duration_hours\"].fillna(df[\"content_duration_hours\"].median())"
   ]
  },
  {
   "cell_type": "markdown",
   "id": "f57d7aa0",
   "metadata": {},
   "source": [
    "# 3 - Escolha de colunas que interessam para recomendação"
   ]
  },
  {
   "cell_type": "code",
   "execution_count": 25,
   "id": "7f88979a",
   "metadata": {},
   "outputs": [],
   "source": [
    "cols_keep = [\n",
    "    \"course_id\",\n",
    "    \"course_title\",\n",
    "    \"url\",\n",
    "    \"price\",\n",
    "    \"is_paid\",\n",
    "    \"num_subscribers\",\n",
    "    \"num_reviews\",\n",
    "    \"num_lectures\",\n",
    "    \"content_duration_hours\",\n",
    "    \"subject\",\n",
    "    \"level\",\n",
    "    \"subject_norm\",\n",
    "    \"level_norm\"\n",
    "]\n",
    "\n",
    "df = df[cols_keep].copy()\n"
   ]
  },
  {
   "cell_type": "markdown",
   "id": "2923f556",
   "metadata": {},
   "source": [
    "# 4 - Padroniza textos que serão vetorizados"
   ]
  },
  {
   "cell_type": "code",
   "execution_count": 26,
   "id": "0463f2b6",
   "metadata": {},
   "outputs": [],
   "source": [
    "df[\"course_title\"] = df[\"course_title\"].astype(str).str.strip()\n",
    "df[\"subject_norm\"] = df[\"subject_norm\"].astype(str).str.strip().str.lower()\n",
    "df[\"level_norm\"]   = df[\"level_norm\"].astype(str).str.strip().str.lower()\n"
   ]
  },
  {
   "cell_type": "markdown",
   "id": "c3359ad2",
   "metadata": {},
   "source": [
    "# 5 - Cria um score de popularidade (0 a 1) com base em num_subscribers"
   ]
  },
  {
   "cell_type": "code",
   "execution_count": 27,
   "id": "69f16741",
   "metadata": {},
   "outputs": [],
   "source": [
    "if \"num_subscribers\" in df.columns:\n",
    "    min_subs = df[\"num_subscribers\"].min()\n",
    "    max_subs = df[\"num_subscribers\"].max()\n",
    "    df[\"popularity_score\"] = (df[\"num_subscribers\"] - min_subs) / (max_subs - min_subs)\n"
   ]
  },
  {
   "cell_type": "markdown",
   "id": "45199c18",
   "metadata": {},
   "source": [
    "# 6 - Salva no processed"
   ]
  },
  {
   "cell_type": "code",
   "execution_count": 28,
   "id": "dbd78383",
   "metadata": {},
   "outputs": [
    {
     "name": "stdout",
     "output_type": "stream",
     "text": [
      "Dataset final salvo em: C:\\Users\\lsbar\\OneDrive\\Mackenzie\\Projeto Aplicado III\\Entrega 3\\Projeto\\data\\processed\\udemy_cleaned_for_training.csv\n"
     ]
    }
   ],
   "source": [
    "out_path = DATA_PROC / \"udemy_cleaned_for_training.csv\"\n",
    "df.to_csv(out_path, index=False)\n",
    "print(\"Dataset final salvo em:\", out_path)"
   ]
  },
  {
   "cell_type": "code",
   "execution_count": null,
   "id": "d2fafdf4",
   "metadata": {},
   "outputs": [],
   "source": []
  },
  {
   "cell_type": "markdown",
   "id": "1b04fdfb",
   "metadata": {},
   "source": [
    "# 2 - Seleção dos atributos relevantes"
   ]
  },
  {
   "cell_type": "code",
   "execution_count": 5,
   "id": "b4fe4046ad1b2598",
   "metadata": {
    "ExecuteTime": {
     "end_time": "2025-09-30T13:51:07.626150Z",
     "start_time": "2025-09-30T13:51:07.600879Z"
    }
   },
   "outputs": [
    {
     "data": {
      "text/html": [
       "<div>\n",
       "<style scoped>\n",
       "    .dataframe tbody tr th:only-of-type {\n",
       "        vertical-align: middle;\n",
       "    }\n",
       "\n",
       "    .dataframe tbody tr th {\n",
       "        vertical-align: top;\n",
       "    }\n",
       "\n",
       "    .dataframe thead th {\n",
       "        text-align: right;\n",
       "    }\n",
       "</style>\n",
       "<table border=\"1\" class=\"dataframe\">\n",
       "  <thead>\n",
       "    <tr style=\"text-align: right;\">\n",
       "      <th></th>\n",
       "      <th>course_title</th>\n",
       "      <th>subject</th>\n",
       "      <th>level</th>\n",
       "      <th>price</th>\n",
       "      <th>num_subscribers</th>\n",
       "    </tr>\n",
       "  </thead>\n",
       "  <tbody>\n",
       "    <tr>\n",
       "      <th>0</th>\n",
       "      <td>Ultimate Investment Banking Course</td>\n",
       "      <td>Business Finance</td>\n",
       "      <td>All Levels</td>\n",
       "      <td>200</td>\n",
       "      <td>2147</td>\n",
       "    </tr>\n",
       "    <tr>\n",
       "      <th>1</th>\n",
       "      <td>Complete GST Course &amp; Certification - Grow You...</td>\n",
       "      <td>Business Finance</td>\n",
       "      <td>All Levels</td>\n",
       "      <td>75</td>\n",
       "      <td>2792</td>\n",
       "    </tr>\n",
       "    <tr>\n",
       "      <th>2</th>\n",
       "      <td>Financial Modeling for Business Analysts and C...</td>\n",
       "      <td>Business Finance</td>\n",
       "      <td>Intermediate Level</td>\n",
       "      <td>45</td>\n",
       "      <td>2174</td>\n",
       "    </tr>\n",
       "    <tr>\n",
       "      <th>3</th>\n",
       "      <td>Beginner to Pro - Financial Analysis in Excel ...</td>\n",
       "      <td>Business Finance</td>\n",
       "      <td>All Levels</td>\n",
       "      <td>95</td>\n",
       "      <td>2451</td>\n",
       "    </tr>\n",
       "    <tr>\n",
       "      <th>4</th>\n",
       "      <td>How To Maximize Your Profits Trading Options</td>\n",
       "      <td>Business Finance</td>\n",
       "      <td>Intermediate Level</td>\n",
       "      <td>200</td>\n",
       "      <td>1276</td>\n",
       "    </tr>\n",
       "  </tbody>\n",
       "</table>\n",
       "</div>"
      ],
      "text/plain": [
       "                                        course_title           subject               level  price  num_subscribers\n",
       "0                 Ultimate Investment Banking Course  Business Finance          All Levels    200             2147\n",
       "1  Complete GST Course & Certification - Grow You...  Business Finance          All Levels     75             2792\n",
       "2  Financial Modeling for Business Analysts and C...  Business Finance  Intermediate Level     45             2174\n",
       "3  Beginner to Pro - Financial Analysis in Excel ...  Business Finance          All Levels     95             2451\n",
       "4       How To Maximize Your Profits Trading Options  Business Finance  Intermediate Level    200             1276"
      ]
     },
     "execution_count": 5,
     "metadata": {},
     "output_type": "execute_result"
    }
   ],
   "source": [
    "# Mantendo apenas as colunas importantes para o sistema de recomendação\n",
    "df = df[['course_title', 'subject', 'level', 'price', 'num_subscribers']]\n",
    "\n",
    "# Conferindo resultado\n",
    "df.head()\n"
   ]
  },
  {
   "cell_type": "markdown",
   "id": "dbd07cab",
   "metadata": {},
   "source": [
    "# 3 - Remover duplicados e tratar valores nulos"
   ]
  },
  {
   "cell_type": "code",
   "execution_count": 6,
   "id": "850576cfee2c6fee",
   "metadata": {
    "ExecuteTime": {
     "end_time": "2025-09-30T13:51:39.298034Z",
     "start_time": "2025-09-30T13:51:39.281083Z"
    }
   },
   "outputs": [
    {
     "name": "stdout",
     "output_type": "stream",
     "text": [
      "course_title       0\n",
      "subject            0\n",
      "level              0\n",
      "price              0\n",
      "num_subscribers    0\n",
      "dtype: int64\n"
     ]
    }
   ],
   "source": [
    "# Removendo duplicados\n",
    "df = df.drop_duplicates()\n",
    "\n",
    "# Conferindo se existem valores nulos\n",
    "print(df.isnull().sum())\n",
    "\n",
    "# Preenchendo valores nulos, se houver\n",
    "df['level'] = df['level'].fillna(\"Unknown\")\n",
    "df['price'] = df['price'].fillna(0)\n",
    "df['num_subscribers'] = df['num_subscribers'].fillna(0)\n"
   ]
  },
  {
   "cell_type": "markdown",
   "id": "9928b3a1",
   "metadata": {},
   "source": [
    "# 4 - Padronização de textos"
   ]
  },
  {
   "cell_type": "code",
   "execution_count": 7,
   "id": "de46da442416a675",
   "metadata": {
    "ExecuteTime": {
     "end_time": "2025-09-30T13:51:55.946282Z",
     "start_time": "2025-09-30T13:51:55.916158Z"
    }
   },
   "outputs": [
    {
     "data": {
      "text/html": [
       "<div>\n",
       "<style scoped>\n",
       "    .dataframe tbody tr th:only-of-type {\n",
       "        vertical-align: middle;\n",
       "    }\n",
       "\n",
       "    .dataframe tbody tr th {\n",
       "        vertical-align: top;\n",
       "    }\n",
       "\n",
       "    .dataframe thead th {\n",
       "        text-align: right;\n",
       "    }\n",
       "</style>\n",
       "<table border=\"1\" class=\"dataframe\">\n",
       "  <thead>\n",
       "    <tr style=\"text-align: right;\">\n",
       "      <th></th>\n",
       "      <th>course_title</th>\n",
       "    </tr>\n",
       "  </thead>\n",
       "  <tbody>\n",
       "    <tr>\n",
       "      <th>0</th>\n",
       "      <td>ultimate investment banking course</td>\n",
       "    </tr>\n",
       "    <tr>\n",
       "      <th>1</th>\n",
       "      <td>complete gst course certification grow your ca...</td>\n",
       "    </tr>\n",
       "    <tr>\n",
       "      <th>2</th>\n",
       "      <td>financial modeling for business analysts and c...</td>\n",
       "    </tr>\n",
       "    <tr>\n",
       "      <th>3</th>\n",
       "      <td>beginner to pro financial analysis in excel 2017</td>\n",
       "    </tr>\n",
       "    <tr>\n",
       "      <th>4</th>\n",
       "      <td>how to maximize your profits trading options</td>\n",
       "    </tr>\n",
       "  </tbody>\n",
       "</table>\n",
       "</div>"
      ],
      "text/plain": [
       "                                        course_title\n",
       "0                 ultimate investment banking course\n",
       "1  complete gst course certification grow your ca...\n",
       "2  financial modeling for business analysts and c...\n",
       "3   beginner to pro financial analysis in excel 2017\n",
       "4       how to maximize your profits trading options"
      ]
     },
     "execution_count": 7,
     "metadata": {},
     "output_type": "execute_result"
    }
   ],
   "source": [
    "# Função para limpar textos\n",
    "def clean_text(text):\n",
    "    text = text.lower()                        # minúsculas\n",
    "    text = re.sub(r'[^a-zA-Z0-9\\s]', '', text) # remove caracteres especiais\n",
    "    text = re.sub(r'\\s+', ' ', text)           # remove espaços extras\n",
    "    return text.strip()\n",
    "\n",
    "# Aplicando no título dos cursos\n",
    "df['course_title'] = df['course_title'].astype(str).apply(clean_text)\n",
    "\n",
    "# Conferindo\n",
    "df[['course_title']].head()\n"
   ]
  },
  {
   "cell_type": "markdown",
   "id": "70810315",
   "metadata": {},
   "source": [
    "# 5 - Transformação de variáveis categóricas"
   ]
  },
  {
   "cell_type": "code",
   "execution_count": 8,
   "id": "f0c2948a087cc048",
   "metadata": {
    "ExecuteTime": {
     "end_time": "2025-09-30T13:52:21.949123Z",
     "start_time": "2025-09-30T13:52:21.918184Z"
    }
   },
   "outputs": [
    {
     "data": {
      "text/html": [
       "<div>\n",
       "<style scoped>\n",
       "    .dataframe tbody tr th:only-of-type {\n",
       "        vertical-align: middle;\n",
       "    }\n",
       "\n",
       "    .dataframe tbody tr th {\n",
       "        vertical-align: top;\n",
       "    }\n",
       "\n",
       "    .dataframe thead th {\n",
       "        text-align: right;\n",
       "    }\n",
       "</style>\n",
       "<table border=\"1\" class=\"dataframe\">\n",
       "  <thead>\n",
       "    <tr style=\"text-align: right;\">\n",
       "      <th></th>\n",
       "      <th>course_title</th>\n",
       "      <th>price</th>\n",
       "      <th>num_subscribers</th>\n",
       "      <th>level_52</th>\n",
       "      <th>level_All Levels</th>\n",
       "      <th>level_Beginner Level</th>\n",
       "      <th>level_Expert Level</th>\n",
       "      <th>level_Intermediate Level</th>\n",
       "      <th>subject_Business Finance</th>\n",
       "      <th>subject_Graphic Design</th>\n",
       "      <th>subject_Musical Instruments</th>\n",
       "      <th>subject_Web Development</th>\n",
       "    </tr>\n",
       "  </thead>\n",
       "  <tbody>\n",
       "    <tr>\n",
       "      <th>0</th>\n",
       "      <td>ultimate investment banking course</td>\n",
       "      <td>200</td>\n",
       "      <td>2147</td>\n",
       "      <td>False</td>\n",
       "      <td>True</td>\n",
       "      <td>False</td>\n",
       "      <td>False</td>\n",
       "      <td>False</td>\n",
       "      <td>True</td>\n",
       "      <td>False</td>\n",
       "      <td>False</td>\n",
       "      <td>False</td>\n",
       "    </tr>\n",
       "    <tr>\n",
       "      <th>1</th>\n",
       "      <td>complete gst course certification grow your ca...</td>\n",
       "      <td>75</td>\n",
       "      <td>2792</td>\n",
       "      <td>False</td>\n",
       "      <td>True</td>\n",
       "      <td>False</td>\n",
       "      <td>False</td>\n",
       "      <td>False</td>\n",
       "      <td>True</td>\n",
       "      <td>False</td>\n",
       "      <td>False</td>\n",
       "      <td>False</td>\n",
       "    </tr>\n",
       "    <tr>\n",
       "      <th>2</th>\n",
       "      <td>financial modeling for business analysts and c...</td>\n",
       "      <td>45</td>\n",
       "      <td>2174</td>\n",
       "      <td>False</td>\n",
       "      <td>False</td>\n",
       "      <td>False</td>\n",
       "      <td>False</td>\n",
       "      <td>True</td>\n",
       "      <td>True</td>\n",
       "      <td>False</td>\n",
       "      <td>False</td>\n",
       "      <td>False</td>\n",
       "    </tr>\n",
       "    <tr>\n",
       "      <th>3</th>\n",
       "      <td>beginner to pro financial analysis in excel 2017</td>\n",
       "      <td>95</td>\n",
       "      <td>2451</td>\n",
       "      <td>False</td>\n",
       "      <td>True</td>\n",
       "      <td>False</td>\n",
       "      <td>False</td>\n",
       "      <td>False</td>\n",
       "      <td>True</td>\n",
       "      <td>False</td>\n",
       "      <td>False</td>\n",
       "      <td>False</td>\n",
       "    </tr>\n",
       "    <tr>\n",
       "      <th>4</th>\n",
       "      <td>how to maximize your profits trading options</td>\n",
       "      <td>200</td>\n",
       "      <td>1276</td>\n",
       "      <td>False</td>\n",
       "      <td>False</td>\n",
       "      <td>False</td>\n",
       "      <td>False</td>\n",
       "      <td>True</td>\n",
       "      <td>True</td>\n",
       "      <td>False</td>\n",
       "      <td>False</td>\n",
       "      <td>False</td>\n",
       "    </tr>\n",
       "  </tbody>\n",
       "</table>\n",
       "</div>"
      ],
      "text/plain": [
       "                                        course_title  price  num_subscribers  level_52  level_All Levels  \\\n",
       "0                 ultimate investment banking course    200             2147     False              True   \n",
       "1  complete gst course certification grow your ca...     75             2792     False              True   \n",
       "2  financial modeling for business analysts and c...     45             2174     False             False   \n",
       "3   beginner to pro financial analysis in excel 2017     95             2451     False              True   \n",
       "4       how to maximize your profits trading options    200             1276     False             False   \n",
       "\n",
       "   level_Beginner Level  level_Expert Level  level_Intermediate Level  subject_Business Finance  \\\n",
       "0                 False               False                     False                      True   \n",
       "1                 False               False                     False                      True   \n",
       "2                 False               False                      True                      True   \n",
       "3                 False               False                     False                      True   \n",
       "4                 False               False                      True                      True   \n",
       "\n",
       "   subject_Graphic Design  subject_Musical Instruments  subject_Web Development  \n",
       "0                   False                        False                    False  \n",
       "1                   False                        False                    False  \n",
       "2                   False                        False                    False  \n",
       "3                   False                        False                    False  \n",
       "4                   False                        False                    False  "
      ]
     },
     "execution_count": 8,
     "metadata": {},
     "output_type": "execute_result"
    }
   ],
   "source": [
    "# Transformando 'level' em variáveis dummies (one-hot encoding)\n",
    "df = pd.get_dummies(df, columns=['level'], prefix='level')\n",
    "\n",
    "# Transformando 'subject' em variáveis dummies também\n",
    "df = pd.get_dummies(df, columns=['subject'], prefix='subject')\n",
    "\n",
    "# Conferindo resultado\n",
    "df.head()\n"
   ]
  },
  {
   "cell_type": "markdown",
   "id": "f3cb4b3c",
   "metadata": {},
   "source": [
    "# 6 - Normalização de variáveis numéricas"
   ]
  },
  {
   "cell_type": "code",
   "execution_count": 9,
   "id": "ca6cb956285d9ce",
   "metadata": {
    "ExecuteTime": {
     "end_time": "2025-09-30T13:52:38.482414Z",
     "start_time": "2025-09-30T13:52:38.461357Z"
    }
   },
   "outputs": [
    {
     "data": {
      "text/html": [
       "<div>\n",
       "<style scoped>\n",
       "    .dataframe tbody tr th:only-of-type {\n",
       "        vertical-align: middle;\n",
       "    }\n",
       "\n",
       "    .dataframe tbody tr th {\n",
       "        vertical-align: top;\n",
       "    }\n",
       "\n",
       "    .dataframe thead th {\n",
       "        text-align: right;\n",
       "    }\n",
       "</style>\n",
       "<table border=\"1\" class=\"dataframe\">\n",
       "  <thead>\n",
       "    <tr style=\"text-align: right;\">\n",
       "      <th></th>\n",
       "      <th>num_subscribers</th>\n",
       "      <th>num_subscribers_log</th>\n",
       "      <th>price</th>\n",
       "      <th>price_norm</th>\n",
       "    </tr>\n",
       "  </thead>\n",
       "  <tbody>\n",
       "    <tr>\n",
       "      <th>0</th>\n",
       "      <td>2147</td>\n",
       "      <td>7.672292</td>\n",
       "      <td>200</td>\n",
       "      <td>1.000</td>\n",
       "    </tr>\n",
       "    <tr>\n",
       "      <th>1</th>\n",
       "      <td>2792</td>\n",
       "      <td>7.934872</td>\n",
       "      <td>75</td>\n",
       "      <td>0.375</td>\n",
       "    </tr>\n",
       "    <tr>\n",
       "      <th>2</th>\n",
       "      <td>2174</td>\n",
       "      <td>7.684784</td>\n",
       "      <td>45</td>\n",
       "      <td>0.225</td>\n",
       "    </tr>\n",
       "    <tr>\n",
       "      <th>3</th>\n",
       "      <td>2451</td>\n",
       "      <td>7.804659</td>\n",
       "      <td>95</td>\n",
       "      <td>0.475</td>\n",
       "    </tr>\n",
       "    <tr>\n",
       "      <th>4</th>\n",
       "      <td>1276</td>\n",
       "      <td>7.152269</td>\n",
       "      <td>200</td>\n",
       "      <td>1.000</td>\n",
       "    </tr>\n",
       "  </tbody>\n",
       "</table>\n",
       "</div>"
      ],
      "text/plain": [
       "   num_subscribers  num_subscribers_log  price  price_norm\n",
       "0             2147             7.672292    200       1.000\n",
       "1             2792             7.934872     75       0.375\n",
       "2             2174             7.684784     45       0.225\n",
       "3             2451             7.804659     95       0.475\n",
       "4             1276             7.152269    200       1.000"
      ]
     },
     "execution_count": 9,
     "metadata": {},
     "output_type": "execute_result"
    }
   ],
   "source": [
    "# Aplicando log1p em num_subscribers para reduzir escala\n",
    "df['num_subscribers_log'] = np.log1p(df['num_subscribers'])\n",
    "\n",
    "# Normalizando preço\n",
    "scaler = MinMaxScaler()\n",
    "df['price_norm'] = scaler.fit_transform(df[['price']])\n",
    "\n",
    "# Conferindo\n",
    "df[['num_subscribers', 'num_subscribers_log', 'price', 'price_norm']].head()\n"
   ]
  },
  {
   "cell_type": "markdown",
   "id": "aea8bccb",
   "metadata": {},
   "source": [
    "# 7 - Salvando dataset final"
   ]
  },
  {
   "cell_type": "code",
   "execution_count": 11,
   "id": "80ddb1cb02b9cc99",
   "metadata": {
    "ExecuteTime": {
     "end_time": "2025-09-30T13:53:03.491199Z",
     "start_time": "2025-09-30T13:53:03.455445Z"
    }
   },
   "outputs": [
    {
     "name": "stdout",
     "output_type": "stream",
     "text": [
      "Dataset tratado salvo em: C:\\Users\\lsbar\\OneDrive\\Mackenzie\\Projeto Aplicado III\\Entrega 3\\Projeto\\data\\processed\\udemy_cleaned_for_training.csv\n"
     ]
    }
   ],
   "source": [
    "out_path = DATA_PROC / \"udemy_cleaned_for_training.csv\"\n",
    "\n",
    "df.to_csv(out_path, index=False)\n",
    "\n",
    "print(\"Dataset tratado salvo em:\", out_path)\n"
   ]
  }
 ],
 "metadata": {
  "kernelspec": {
   "display_name": "Python 3",
   "language": "python",
   "name": "python3"
  },
  "language_info": {
   "codemirror_mode": {
    "name": "ipython",
    "version": 3
   },
   "file_extension": ".py",
   "mimetype": "text/x-python",
   "name": "python",
   "nbconvert_exporter": "python",
   "pygments_lexer": "ipython3",
   "version": "3.13.7"
  }
 },
 "nbformat": 4,
 "nbformat_minor": 5
}
